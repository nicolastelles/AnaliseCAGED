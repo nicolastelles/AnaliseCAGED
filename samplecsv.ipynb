{
 "metadata": {
  "language_info": {
   "codemirror_mode": {
    "name": "ipython",
    "version": 3
   },
   "file_extension": ".py",
   "mimetype": "text/x-python",
   "name": "python",
   "nbconvert_exporter": "python",
   "pygments_lexer": "ipython3",
   "version": "3.9.2"
  },
  "orig_nbformat": 2,
  "kernelspec": {
   "name": "python392jvsc74a57bd062026d6115dea9c7533ba2d3966bb08acda9af192e1196f8f3ea7b4d1bcb3324",
   "display_name": "Python 3.9.2 64-bit ('Python39')"
  }
 },
 "nbformat": 4,
 "nbformat_minor": 2,
 "cells": [
  {
   "cell_type": "code",
   "execution_count": 1,
   "metadata": {},
   "outputs": [],
   "source": [
    "import pandas as pd\n",
    "import csv"
   ]
  },
  {
   "cell_type": "code",
   "execution_count": 25,
   "metadata": {},
   "outputs": [],
   "source": [
    "df3 = pd.read_csv(r'C:\\Users\\Pichau\\Documents\\Fatec\\3Semestre\\Estrutura_de_dados\\CAGED\\CAGEDMOV202003.csv' ,delimiter=';', encoding='UTF-8')"
   ]
  },
  {
   "cell_type": "code",
   "execution_count": 27,
   "metadata": {},
   "outputs": [],
   "source": [
    "df3 = df3.sample(300000, replace=True)\n",
    "df3.to_csv('CAGED202003', sep=';', encoding='utf-8', index=False)"
   ]
  },
  {
   "cell_type": "code",
   "execution_count": 28,
   "metadata": {},
   "outputs": [],
   "source": [
    "df4 = pd.read_csv(r'C:\\Users\\Pichau\\Documents\\Fatec\\3Semestre\\Estrutura_de_dados\\CAGED\\CAGEDMOV202004.csv' ,delimiter=';', encoding='UTF-8')"
   ]
  },
  {
   "cell_type": "code",
   "execution_count": 30,
   "metadata": {},
   "outputs": [],
   "source": [
    "df4 = df4.sample(300000, replace=True)\n",
    "df4.to_csv('CAGED202004', sep=';', encoding='utf-8', index=False, header=False)"
   ]
  },
  {
   "cell_type": "code",
   "execution_count": 31,
   "metadata": {},
   "outputs": [],
   "source": [
    "df5 = pd.read_csv(r'C:\\Users\\Pichau\\Documents\\Fatec\\3Semestre\\Estrutura_de_dados\\CAGED\\CAGEDMOV202005.csv',delimiter=';', encoding='UTF-8')"
   ]
  },
  {
   "cell_type": "code",
   "execution_count": 32,
   "metadata": {},
   "outputs": [],
   "source": [
    "df5 = df5.sample(300000, replace=True)\n",
    "df5.to_csv('CAGED202005', sep=';', encoding='utf-8', index=False, header=False)"
   ]
  },
  {
   "cell_type": "code",
   "execution_count": 33,
   "metadata": {},
   "outputs": [],
   "source": [
    "df6 = pd.read_csv(r'C:\\Users\\Pichau\\Documents\\Fatec\\3Semestre\\Estrutura_de_dados\\CAGED\\CAGEDMOV202006.csv',delimiter=';', encoding='UTF-8')"
   ]
  },
  {
   "cell_type": "code",
   "execution_count": 34,
   "metadata": {},
   "outputs": [],
   "source": [
    "df6 = df6.sample(300000, replace=True)\n",
    "df6.to_csv('CAGED202006', sep=';', encoding='utf-8', index=False, header=False)"
   ]
  },
  {
   "cell_type": "code",
   "execution_count": 35,
   "metadata": {},
   "outputs": [],
   "source": [
    "df7 = pd.read_csv(r'C:\\Users\\Pichau\\Documents\\Fatec\\3Semestre\\Estrutura_de_dados\\CAGED\\CAGEDMOV202007.csv',delimiter=';', encoding='UTF-8')"
   ]
  },
  {
   "cell_type": "code",
   "execution_count": 36,
   "metadata": {},
   "outputs": [],
   "source": [
    "df7 = df7.sample(300000, replace=True)\n",
    "df7.to_csv('CAGED202007', sep=';', encoding='utf-8', index=False, header=False)"
   ]
  },
  {
   "cell_type": "code",
   "execution_count": 37,
   "metadata": {},
   "outputs": [],
   "source": [
    "df8 = pd.read_csv(r'C:\\Users\\Pichau\\Documents\\Fatec\\3Semestre\\Estrutura_de_dados\\CAGED\\CAGEDMOV202008.csv',delimiter=';', encoding='UTF-8')"
   ]
  },
  {
   "cell_type": "code",
   "execution_count": 38,
   "metadata": {},
   "outputs": [],
   "source": [
    "df8 = df8.sample(300000, replace=True)\n",
    "df8.to_csv('CAGED202008', sep=';', encoding='utf-8', index=False, header=False)"
   ]
  },
  {
   "cell_type": "code",
   "execution_count": 39,
   "metadata": {},
   "outputs": [],
   "source": [
    "df9 = pd.read_csv(r'C:\\Users\\Pichau\\Documents\\Fatec\\3Semestre\\Estrutura_de_dados\\CAGED\\CAGEDMOV202009.csv',delimiter=';', encoding='UTF-8')"
   ]
  },
  {
   "cell_type": "code",
   "execution_count": 40,
   "metadata": {},
   "outputs": [],
   "source": [
    "df9 = df9.sample(300000, replace=True)\n",
    "df9.to_csv('CAGED202009', sep=';', encoding='utf-8', index=False, header=False)"
   ]
  },
  {
   "cell_type": "code",
   "execution_count": 41,
   "metadata": {},
   "outputs": [],
   "source": [
    "df10 = pd.read_csv(r'C:\\Users\\Pichau\\Documents\\Fatec\\3Semestre\\Estrutura_de_dados\\CAGED\\CAGEDMOV202010.csv',delimiter=';', encoding='UTF-8')"
   ]
  },
  {
   "cell_type": "code",
   "execution_count": 42,
   "metadata": {},
   "outputs": [],
   "source": [
    "df10 = df10.sample(300000, replace=True)\n",
    "df10.to_csv('CAGED202010', sep=';', encoding='utf-8', index=False, header=False)"
   ]
  },
  {
   "cell_type": "code",
   "execution_count": 43,
   "metadata": {},
   "outputs": [],
   "source": [
    "df11 = pd.read_csv(r'C:\\Users\\Pichau\\Documents\\Fatec\\3Semestre\\Estrutura_de_dados\\CAGED\\CAGEDMOV202011.csv',delimiter=';', encoding='UTF-8')"
   ]
  },
  {
   "cell_type": "code",
   "execution_count": 45,
   "metadata": {},
   "outputs": [],
   "source": [
    "df11 = df11.sample(300000, replace=True)\n",
    "df11.to_csv('CAGED202011', sep=';', encoding='utf-8', index=False, header=False)"
   ]
  },
  {
   "cell_type": "code",
   "execution_count": 46,
   "metadata": {},
   "outputs": [],
   "source": [
    "df12 = pd.read_csv(r'C:\\Users\\Pichau\\Documents\\Fatec\\3Semestre\\Estrutura_de_dados\\CAGED\\CAGEDMOV202012.csv',delimiter=';', encoding='UTF-8')"
   ]
  },
  {
   "cell_type": "code",
   "execution_count": 47,
   "metadata": {},
   "outputs": [],
   "source": [
    "df12 = df12.sample(300000, replace=True)\n",
    "df12.to_csv('CAGED202012', sep=';', encoding='utf-8', index=False, header=False)"
   ]
  }
 ]
}