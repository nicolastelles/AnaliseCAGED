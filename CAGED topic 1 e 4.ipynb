{
 "cells": [
  {
   "cell_type": "markdown",
   "id": "auburn-mystery",
   "metadata": {},
   "source": [
    "## Importação de bibliotecas"
   ]
  },
  {
   "cell_type": "code",
   "execution_count": null,
   "id": "76ae329f",
   "metadata": {},
   "outputs": [],
   "source": [
    "import pandas as pd\n",
    "import matplotlib\n",
    "import seaborn as sns\n",
    "import matplotlib.pyplot as plt\n",
    "%matplotlib inline\n",
    "sns.set_style('ticks')"
   ]
  },
  {
   "cell_type": "markdown",
   "id": "unexpected-visiting",
   "metadata": {},
   "source": [
    "## Leitura do Dataset"
   ]
  },
  {
   "cell_type": "code",
   "execution_count": null,
   "id": "c17db835",
   "metadata": {},
   "outputs": [],
   "source": [
    "colunas = ['regiao','uf','secao','subclasse','saldomovimentacao','cbo2002ocupacao','categoria','graudeinstrucao','idade','racacor','sexo','tipomovimentacao','tipodedeficiencia','salario','indicadoraprendiz']\n",
    "df = pd.read_csv(r'C:\\Users\\Pichau\\Documents\\Fatec\\3Semestre\\Estrutura_de_dados\\CAGED\\CAGEDLIGTH\\CAGEDLIGTH.csv', encoding = 'UTF-8', delimiter=\";\", usecols= colunas)"
   ]
  },
  {
   "cell_type": "code",
   "execution_count": null,
   "id": "charming-chinese",
   "metadata": {},
   "outputs": [],
   "source": [
    "#caso o data frame seja lido em iso-8859-1\n",
    "'''\n",
    "df = df.rename(columns = {'competÃªncia': 'competência', \n",
    "'regiÃ£o': 'região',\n",
    "'municÃ­pio': 'município',\n",
    "'seÃ§Ã£o': 'seção',\n",
    "'saldomovimentaÃ§Ã£o': 'saldomovimentação',\n",
    "'cbo2002ocupaÃ§Ã£o' : 'cbo2002ocupação',\n",
    "'graudeinstruÃ§Ã£o': 'graudeinstrução',\n",
    "'raÃ§acor': 'raçacor',\n",
    "'tipomovimentaÃ§Ã£o': 'tipomovimentação',\n",
    "'tipodedeficiÃªncia': 'tipodedeficiência',\n",
    "'salÃ¡rio': 'salário'}, inplace = False)\n",
    "'''"
   ]
  },
  {
   "cell_type": "code",
   "execution_count": null,
   "id": "ecebb8dc",
   "metadata": {},
   "outputs": [],
   "source": [
    "df.info()"
   ]
  },
  {
   "cell_type": "code",
   "execution_count": null,
   "id": "disciplinary-report",
   "metadata": {},
   "outputs": [],
   "source": [
    "df['sexo']"
   ]
  },
  {
   "cell_type": "markdown",
   "id": "peaceful-popularity",
   "metadata": {},
   "source": [
    "## Data cleaning"
   ]
  },
  {
   "cell_type": "code",
   "execution_count": null,
   "id": "cellular-alaska",
   "metadata": {},
   "outputs": [],
   "source": [
    "df.isnull().sum()"
   ]
  },
  {
   "cell_type": "markdown",
   "id": "desirable-abraham",
   "metadata": {},
   "source": [
    "### Como poucos valores estão nulos, vamos excluir estes registros, pois acreditos que não vai influenciar na análise"
   ]
  },
  {
   "cell_type": "code",
   "execution_count": null,
   "id": "immediate-snake",
   "metadata": {},
   "outputs": [],
   "source": [
    "df = df.dropna()"
   ]
  },
  {
   "cell_type": "code",
   "execution_count": null,
   "id": "3bc82929",
   "metadata": {},
   "outputs": [],
   "source": [
    "df['salario']=df['salario'].apply(lambda x :  str(x).replace(',','.'))\n",
    "df['salario']=df['salario'].apply(lambda x :  str(x).replace('nan','0'))\n",
    "df['salario']=pd.to_numeric(df['salario'], downcast=\"float\")"
   ]
  },
  {
   "cell_type": "code",
   "execution_count": null,
   "id": "11d95dcb",
   "metadata": {},
   "outputs": [],
   "source": [
    "df['admitidos/desligados'] = df['tipomovimentacao'].apply(lambda x: \"Admitido\" if x==10 or x==20 or x==25 or x==35 or x==70 else \"Desligado\")"
   ]
  },
  {
   "cell_type": "code",
   "execution_count": null,
   "id": "primary-inside",
   "metadata": {},
   "outputs": [],
   "source": [
    "Raca = {1: 'BRANCA',2: 'PRETA',3: 'PARDA', 4: 'AMARELA',5 : 'INDIGENA',6:'NÃO INFORMADA',  9: 'NAO IDENTIFICADO'}\n",
    "Sexo = {1: 'MASCULINO',3 :'FEMININO', 9: 'NAO IDENTIFICADO'}\n",
    "AdmDem = {1: 'ADMISSÃO', 2: 'DESLIGAMENTO'}\n",
    "TipoMovDesagregado = {\n",
    "10:'Admissão por Primeiro Emprego',\n",
    "20:'Admissão por Reemprego', \n",
    "25:'Admissão por contrato trabalho prazo determinado',\n",
    "31:'Desligamento por Demissão sem Justa Causa', \n",
    "32:'Desligamento por Demissão com Justa Causa', \n",
    "33:'Culpa Recíproca',\n",
    "35:'Admissão por Reintegraçao', \n",
    "40:'Desligamento a Pedido',\n",
    "43:'Término contrato trabalho prazo determinado',\n",
    "45:'Desligamento por Término de Contrato',\n",
    "50:'Desligamento por Aposentadoria', \n",
    "60:'Desligamento por morte',\n",
    "70:'Admissão por Transferência', \n",
    "80:'Desligamento por Transferência', \n",
    "90:'Desliamento por Acordo Empregado e Empregador',\n",
    "98:'Desligamento de Tipo Ignorado',\n",
    "99:'Não Identificado'}"
   ]
  },
  {
   "cell_type": "code",
   "execution_count": null,
   "id": "analyzed-hungarian",
   "metadata": {},
   "outputs": [],
   "source": [
    "df['racacor'] = df['racacor'].map(Raca)\n",
    "df['sexo'] = df['sexo'].map(Sexo)\n",
    "df['tipomovimentacao'] = df['tipomovimentacao'].map(TipoMovDesagregado)"
   ]
  },
  {
   "cell_type": "code",
   "execution_count": null,
   "id": "eccfa616",
   "metadata": {},
   "outputs": [],
   "source": [
    "def categorizarClasseSocial(x):\n",
    "    #try:\n",
    "        #x=float(x)\n",
    "\n",
    "        if x<2200:\n",
    "            return 'E'\n",
    "        elif x<4400:\n",
    "            return 'D'\n",
    "        elif x<11000:\n",
    "            return 'C'\n",
    "        elif x<22000:\n",
    "            return 'B'\n",
    "        else:\n",
    "            return 'A'\n",
    "\n",
    "#    except:\n",
    " #       print(\"caca: \"+x)"
   ]
  },
  {
   "cell_type": "code",
   "execution_count": null,
   "id": "9c0ae439",
   "metadata": {},
   "outputs": [],
   "source": [
    "df['classe social'] = df['salario'].apply(lambda x: categorizarClasseSocial(x))"
   ]
  },
  {
   "cell_type": "code",
   "execution_count": null,
   "id": "southeast-moore",
   "metadata": {},
   "outputs": [],
   "source": [
    "sns.catplot(x=\"classe social\", kind=\"count\", data=df)"
   ]
  },
  {
   "cell_type": "code",
   "execution_count": null,
   "id": "c3e26bea",
   "metadata": {},
   "outputs": [],
   "source": [
    "def categorizarFaixaEtaria(x):\n",
    "        if x<20:\n",
    "            return \"Adolescência\"\n",
    "        elif x<26:\n",
    "            return \"Pós-adolescência\"\n",
    "        elif x<40:\n",
    "            return \"Adultidade\"\n",
    "        elif x<65:\n",
    "            return \"Meia-idade\"\n",
    "        elif x<80:\n",
    "            return \"Terceira idade\"\n",
    "        else:\n",
    "            return \"Quarta Idade\""
   ]
  },
  {
   "cell_type": "code",
   "execution_count": null,
   "id": "8adcd654",
   "metadata": {},
   "outputs": [],
   "source": [
    "df['faixa Etária'] = df['idade'].apply(lambda x: categorizarFaixaEtaria(x))"
   ]
  },
  {
   "cell_type": "markdown",
   "id": "eb314bcf",
   "metadata": {},
   "source": [
    "### Criar coluna admitidos/desligados apartir dos dados de tipomovimentação"
   ]
  },
  {
   "cell_type": "markdown",
   "id": "612b50f1",
   "metadata": {},
   "source": [
    "### Calcular total admitido e total desligado"
   ]
  },
  {
   "cell_type": "code",
   "execution_count": null,
   "id": "bff71533",
   "metadata": {},
   "outputs": [],
   "source": [
    "total = df['admitidos/desligados'].count()"
   ]
  },
  {
   "cell_type": "markdown",
   "id": "2c343c82",
   "metadata": {},
   "source": [
    "### Cria um array só com admitidos"
   ]
  },
  {
   "cell_type": "code",
   "execution_count": null,
   "id": "e6c24497",
   "metadata": {},
   "outputs": [],
   "source": [
    "totalAdmitidoArray = df[df['admitidos/desligados'] == \"Admitido\"]\n",
    "totalAdmitido = totalAdmitidoArray['admitidos/desligados'].count()"
   ]
  },
  {
   "cell_type": "markdown",
   "id": "4cb6b419",
   "metadata": {},
   "source": [
    "### Cria um array só com desligados"
   ]
  },
  {
   "cell_type": "code",
   "execution_count": null,
   "id": "f86c6202",
   "metadata": {},
   "outputs": [],
   "source": [
    "totalDesligadoArray = df[df['admitidos/desligados'] == \"Desligado\"]\n",
    "totalDesligado = total - totalAdmitido"
   ]
  },
  {
   "cell_type": "markdown",
   "id": "simple-calcium",
   "metadata": {},
   "source": [
    "# Tópico 1 - Qual foi o índice de pessoas empregadas e desempregadas em certo período, categorizadas por:\n",
    "    - Gênero \n",
    "    - Classe social \n",
    "    - Faixa Etária \n",
    "    - Nível de escolaridade \n",
    "    - Setores (Agronegócio, Indústria, Comércio, etc...) "
   ]
  },
  {
   "cell_type": "markdown",
   "id": "b14d1983",
   "metadata": {},
   "source": [
    "# Começa a calcular os items pedidos"
   ]
  },
  {
   "cell_type": "markdown",
   "id": "f6e731f7",
   "metadata": {},
   "source": [
    "## Indice sexo"
   ]
  },
  {
   "cell_type": "markdown",
   "id": "selective-clerk",
   "metadata": {},
   "source": []
  },
  {
   "cell_type": "markdown",
   "id": "clinical-somalia",
   "metadata": {},
   "source": [
    "### Admitidos"
   ]
  },
  {
   "cell_type": "code",
   "execution_count": null,
   "id": "008be5f4",
   "metadata": {},
   "outputs": [],
   "source": [
    "TotalAdmitidoFem = (totalAdmitidoArray[totalAdmitidoArray['sexo']=='FEMININO'])['admitidos/desligados'].count()\n",
    "TotalAdmitidoMasc = totalAdmitido - TotalAdmitidoFem\n",
    "porcentagemAdmitidoFem = ((TotalAdmitidoFem/totalAdmitido)*100).astype(int)\n",
    "porcentagemAdmitidoMasc = 100-porcentagemAdmitidoFem\n",
    "f'Porcentagem Admitido feminino: {porcentagemAdmitidoFem}%  ||  Porcentagem Admitido Masculino:  {porcentagemAdmitidoMasc}%'"
   ]
  },
  {
   "cell_type": "code",
   "execution_count": null,
   "id": "rolled-colorado",
   "metadata": {},
   "outputs": [],
   "source": [
    "#sns.catplot(x=\"sexo\", y=\"TotalAdmitidoFemi\",  palette=\"ch:.25\",kind=\"bar\", data=df)"
   ]
  },
  {
   "cell_type": "markdown",
   "id": "09ef4d52",
   "metadata": {},
   "source": [
    "### Desligados"
   ]
  },
  {
   "cell_type": "code",
   "execution_count": null,
   "id": "a1b0a34a",
   "metadata": {},
   "outputs": [],
   "source": [
    "TotalDesligadoFem = (totalDesligadoArray[totalDesligadoArray['sexo']=='FEMININO'])['admitidos/desligados'].count()\n",
    "TotalDesligadoMasc = totalDesligado - TotalDesligadoFem\n",
    "porcentagemDesligadoFem = ((TotalDesligadoFem/totalDesligado)*100).astype(int)\n",
    "porcentagemDesligadoMasc = 100-porcentagemDesligadoFem\n",
    "f'Porcentagem Desligado feminino: {porcentagemDesligadoFem}%  ||  Porcentagem Desligado Masculino: {porcentagemDesligadoMasc}%'"
   ]
  },
  {
   "cell_type": "markdown",
   "id": "194a3439",
   "metadata": {},
   "source": [
    "## Indice Classe social"
   ]
  },
  {
   "cell_type": "code",
   "execution_count": null,
   "id": "4e73a63b",
   "metadata": {},
   "outputs": [],
   "source": [
    "classes=['A','B','C','D','E']"
   ]
  },
  {
   "cell_type": "markdown",
   "id": "d9b18d33",
   "metadata": {},
   "source": [
    "### Admitidos"
   ]
  },
  {
   "cell_type": "code",
   "execution_count": null,
   "id": "b2183750",
   "metadata": {
    "scrolled": true
   },
   "outputs": [],
   "source": [
    "for x in classes: \n",
    "    totalAdmitidoClasse = (totalAdmitidoArray[totalAdmitidoArray['classe social']==x])['admitidos/desligados'].count()\n",
    "    porcentagemAdmitido = ((totalAdmitidoClasse/totalAdmitido)*100).astype(int)\n",
    "    print(f'Porcentagem Admitidos classe {x}: {porcentagemAdmitido}%')"
   ]
  },
  {
   "cell_type": "markdown",
   "id": "e07ef96d",
   "metadata": {},
   "source": [
    "### Desligados"
   ]
  },
  {
   "cell_type": "code",
   "execution_count": null,
   "id": "2b875ed6",
   "metadata": {},
   "outputs": [],
   "source": [
    "for x in classes: \n",
    "    totalDesligadoClasse = (totalDesligadoArray[totalDesligadoArray['classe social']==x])['admitidos/desligados'].count()\n",
    "    porcentagemDesligado = ((totalDesligadoClasse/totalDesligado)*100).astype(int)\n",
    "    print(f'Porcentagem Desligado classe {x}: {porcentagemDesligado}%')"
   ]
  },
  {
   "cell_type": "markdown",
   "id": "a09c9091",
   "metadata": {},
   "source": [
    "## Indice faixa etaria"
   ]
  },
  {
   "cell_type": "markdown",
   "id": "16e074e9",
   "metadata": {},
   "source": [
    "### Classificação faixa etaria\n",
    "    15 a 20 anos: Adolescência\n",
    "    20 a 26 anos: Pós-adolescência\n",
    "    26 a 40 anos: Adultidade\n",
    "    40 a 65 anos: Meia-idade\n",
    "    65 a 80 anos: Terceira idade\n",
    "    mais que 80 anos: Quarta Idade"
   ]
  },
  {
   "cell_type": "code",
   "execution_count": null,
   "id": "8f145d68",
   "metadata": {},
   "outputs": [],
   "source": [
    "faixaEtarias = {\n",
    "    \"Adolescência\":\"15 a 20 anos\",\n",
    "    \"Pós-adolescência\":\"20 a 26 anos\",\n",
    "    \"Adultidade\":\"26 a 40 anos\",\n",
    "    \"Meia-idade\":\"40 a 65 anos\",\n",
    "    \"Terceira idade\":\"65 a 80 anos\",\n",
    "    \"Quarta Idade\":\"mais que 80 anos\"\n",
    "    }"
   ]
  },
  {
   "cell_type": "markdown",
   "id": "18db30c9",
   "metadata": {},
   "source": [
    "### Admitidos"
   ]
  },
  {
   "cell_type": "code",
   "execution_count": null,
   "id": "1e6ff384",
   "metadata": {},
   "outputs": [],
   "source": [
    "for x,y in faixaEtarias.items():\n",
    "    totalAdmitidoFaixaEtaria = (totalAdmitidoArray[totalAdmitidoArray['faixa Etária']==x])['admitidos/desligados'].count()\n",
    "    porcentagemAdmitido = ((totalAdmitidoFaixaEtaria/totalAdmitido)*100).astype(int)\n",
    "    print(f'Porcentagem Admitidos {x} ({y}): {porcentagemAdmitido}%')"
   ]
  },
  {
   "cell_type": "code",
   "execution_count": null,
   "id": "quiet-consistency",
   "metadata": {},
   "outputs": [],
   "source": [
    "sns.catplot(x=\"admitidos/desligados\",hue=\"faixa Etária\", kind=\"count\", palette=\"ch:.25\", data=df)"
   ]
  },
  {
   "cell_type": "code",
   "execution_count": null,
   "id": "occasional-equality",
   "metadata": {},
   "outputs": [],
   "source": [
    "sns.catplot(x=\"admitidos/desligados\", y=\"salario\", hue=\"faixa Etária\", kind=\"bar\", data=df)"
   ]
  },
  {
   "cell_type": "markdown",
   "id": "143537b0",
   "metadata": {},
   "source": [
    "### Desligados"
   ]
  },
  {
   "cell_type": "code",
   "execution_count": null,
   "id": "0e1fddc2",
   "metadata": {},
   "outputs": [],
   "source": [
    "for x,y in faixaEtarias.items():\n",
    "    totalDesligadoFaixaEtaria = (totalDesligadoArray[totalDesligadoArray['faixa Etária']==x])['admitidos/desligados'].count()\n",
    "    porcentagemDesligado = ((totalDesligadoFaixaEtaria/totalDesligado)*100).astype(int)\n",
    "    print(f'Porcentagem Desligado {x} ({y}): {porcentagemDesligado}%')"
   ]
  },
  {
   "cell_type": "markdown",
   "id": "8df5483e",
   "metadata": {},
   "source": [
    "## Indice Grau Instrução"
   ]
  },
  {
   "cell_type": "code",
   "execution_count": null,
   "id": "acb96612",
   "metadata": {},
   "outputs": [],
   "source": [
    "grauInstrução = {\n",
    "    1:\"Analfabeto\",\n",
    "    2:\"Até 5ª Incompleto\",\n",
    "    3:\"5ª Completo Fundamental\",\n",
    "    4:\"6ª a 9ª Fundamental\",\n",
    "    5:\"Fundamental Completo\",\n",
    "    6:\"Médio Incompleto\",\n",
    "    7:\"Médio Completo\",\n",
    "    8:\"Superior Incompleto\",\n",
    "    9:\"Superior Completo\",\n",
    "    10:\"Mestrado\",\n",
    "    11:\"Doutorado\",\n",
    "    80:\"Pós-Graduação completa\",\n",
    "    99:\"Não Identificado\"\n",
    "}"
   ]
  },
  {
   "cell_type": "markdown",
   "id": "78779a28",
   "metadata": {},
   "source": [
    "### Admitidos"
   ]
  },
  {
   "cell_type": "code",
   "execution_count": null,
   "id": "b0145726",
   "metadata": {},
   "outputs": [],
   "source": [
    "for x,y in grauInstrução.items():\n",
    "    totalAdmitidoGrauInstrução = (totalAdmitidoArray[totalAdmitidoArray['graudeinstrucao']==x])['admitidos/desligados'].count()\n",
    "    porcentagemAdmitido = ((totalAdmitidoGrauInstrução/totalAdmitido)*100).astype(int)\n",
    "    print(f'Porcentagem Admitidos {y}: {porcentagemAdmitido}%')"
   ]
  },
  {
   "cell_type": "markdown",
   "id": "b00f73d4",
   "metadata": {},
   "source": [
    "### Desligados"
   ]
  },
  {
   "cell_type": "code",
   "execution_count": null,
   "id": "8c981288",
   "metadata": {},
   "outputs": [],
   "source": [
    "for x,y in grauInstrução.items():\n",
    "    totalDesligadoGrauInstrução = (totalDesligadoArray[totalDesligadoArray['graudeinstrucao']==x])['admitidos/desligados'].count()\n",
    "    porcentagemDesligado = ((totalDesligadoGrauInstrução/totalDesligado)*100).astype(int)\n",
    "    print(f'Porcentagem Desligado {y}: {porcentagemDesligado}%')"
   ]
  },
  {
   "cell_type": "code",
   "execution_count": null,
   "id": "designed-three",
   "metadata": {},
   "outputs": [],
   "source": [
    "df['graudeinstrucao'] = df['graudeinstrucao'].map(grauInstrução)"
   ]
  },
  {
   "cell_type": "code",
   "execution_count": null,
   "id": "joined-television",
   "metadata": {},
   "outputs": [],
   "source": [
    "sns.catplot(x=\"admitidos/desligados\",hue=\"graudeinstrucao\", kind=\"count\", data=df)"
   ]
  },
  {
   "cell_type": "code",
   "execution_count": null,
   "id": "touched-flood",
   "metadata": {},
   "outputs": [],
   "source": [
    "sns.catplot(x=\"admitidos/desligados\", y=\"salario\", hue=\"graudeinstrucao\", kind=\"bar\", data=df)"
   ]
  },
  {
   "cell_type": "markdown",
   "id": "22629924",
   "metadata": {},
   "source": [
    "## Indice Setores"
   ]
  },
  {
   "cell_type": "code",
   "execution_count": null,
   "id": "98639abe",
   "metadata": {},
   "outputs": [],
   "source": [
    "setores ={\n",
    "    \"A\":\"Agricultura, Pecuária, Produção Florestal, Pesca e AqÜIcultura\",\n",
    "    \"B\":\"Indústrias Extrativas\",\n",
    "    \"C\":\"Indústrias de Transformação\",\n",
    "    \"D\":\"Eletricidade e Gás\",\n",
    "    \"E\":\"Água, Esgoto, Atividades de Gestão de Resíduos e Descontaminação\",\n",
    "    \"F\":\"Construção\",\n",
    "    \"G\":\"Comércio, Reparação de Veículos Automotores e Motocicletas\",\n",
    "    \"H\":\"Transporte, Armazenagem e Correio\",\n",
    "    \"I\":\"Alojamento e Alimentação\",\n",
    "    \"J\":\"Informação e Comunicação\",\n",
    "    \"K\":\"Atividades Financeiras, de Seguros e Serviços Relacionados\",\n",
    "    \"L\":\"Atividades Imobiliárias\",\n",
    "    \"M\":\"Atividades Profissionais, Científicas e Técnicas\",\n",
    "    \"N\":\"Atividades Administrativas e Serviços Complementares\",\n",
    "    \"O\":\"Administração Pública, Defesa e Seguridade Social\",\n",
    "    \"P\":\"Educação\",\n",
    "    \"Q\":\"Saúde Humana e Serviços Sociais\",\n",
    "    \"R\":\"Artes, Cultura, Esporte e Recreação\",\n",
    "    \"S\":\"Outras Atividades de Serviços\",\n",
    "    \"T\":\"Serviços Domésticos\",\n",
    "    \"U\":\"Organismos Internacionais e Outras Instituições Extraterritoriais\",\n",
    "    \"Z\":\"Não identificado\"\n",
    "}"
   ]
  },
  {
   "cell_type": "code",
   "execution_count": null,
   "id": "assured-development",
   "metadata": {},
   "outputs": [],
   "source": [
    "df['secao'].sample(10)"
   ]
  },
  {
   "cell_type": "markdown",
   "id": "4c8ad30b",
   "metadata": {},
   "source": [
    "### Admitidos"
   ]
  },
  {
   "cell_type": "code",
   "execution_count": null,
   "id": "warming-mattress",
   "metadata": {},
   "outputs": [],
   "source": [
    "df['secao']= df['secao'].map(setores)"
   ]
  },
  {
   "cell_type": "code",
   "execution_count": null,
   "id": "published-press",
   "metadata": {},
   "outputs": [],
   "source": [
    "ax = plt.subplots(figsize=(7, 7))\n",
    "sns.countplot(y=\"secao\", data=df, palette=\"ch:.25\")"
   ]
  },
  {
   "cell_type": "code",
   "execution_count": null,
   "id": "2a5e9bdc",
   "metadata": {},
   "outputs": [],
   "source": [
    "for x,y in setores.items():\n",
    "    totalAdmitidoSetores = (totalAdmitidoArray[totalAdmitidoArray['secao']==x])['admitidos/desligados'].count()\n",
    "    porcentagemAdmitido = ((totalAdmitidoSetores/totalAdmitido)*100).astype(int)\n",
    "    print(f'Porcentagem Admitidos do setor: {y}: {porcentagemAdmitido}%')"
   ]
  },
  {
   "cell_type": "markdown",
   "id": "a82db90c",
   "metadata": {},
   "source": [
    "### Desligados"
   ]
  },
  {
   "cell_type": "code",
   "execution_count": null,
   "id": "a12caf54",
   "metadata": {},
   "outputs": [],
   "source": [
    "for x,y in setores.items():\n",
    "    totalDesligadoSetores = (totalDesligadoArray[totalDesligadoArray['secao']==x])['admitidos/desligados'].count()\n",
    "    porcentagemDesligado = ((totalDesligadoSetores/totalDesligado)*100).astype(int)\n",
    "    print(f'Porcentagem Desligado do setor: {y}: {porcentagemDesligado}%')"
   ]
  },
  {
   "cell_type": "markdown",
   "id": "liberal-window",
   "metadata": {},
   "source": [
    "# Tópico 2"
   ]
  },
  {
   "cell_type": "markdown",
   "id": "introductory-occupation",
   "metadata": {},
   "source": [
    "# Tópico 3 "
   ]
  },
  {
   "cell_type": "code",
   "execution_count": null,
   "metadata": {},
   "outputs": [],
   "source": [
    "## Quantidade de admissões/demissões por gênero. \n"
   ]
  },
  {
   "cell_type": "code",
   "execution_count": null,
   "metadata": {},
   "outputs": [],
   "source": [
    "SEXO ={\n",
    "    \"MASCULINO\":\"MASCULINO\",\n",
    "    \"FEMININO\":\"FEMININO\",\n",
    "    \"NAO IDENTIFICADO\":\"NÃO ESPECIFICADO\"}"
   ]
  },
  {
   "cell_type": "code",
   "execution_count": null,
   "metadata": {},
   "outputs": [],
   "source": [
    "df['sexo']= df['sexo'].map(SEXO)"
   ]
  },
  {
   "cell_type": "code",
   "execution_count": null,
   "metadata": {},
   "outputs": [],
   "source": [
    "for x,y in SEXO.items():\n",
    "    totalAdmitidosexo = (totalAdmitidoArray[totalAdmitidoArray['sexo']==x])['admitidos/desligados'].count()\n",
    "    porcentagemAdmitido = ((totalAdmitidosexo/totalAdmitido)*100).astype(int)\n",
    "    print(f'Porcentagem Admitidos pelo sexo: {y}: {porcentagemAdmitido}%')"
   ]
  },
  {
   "cell_type": "code",
   "execution_count": null,
   "metadata": {},
   "outputs": [],
   "source": [
    "for x,y in SEXO.items():\n",
    "    totalDesligadosexo = (totalDesligadoArray[totalDesligadoArray['sexo']==x])['admitidos/desligados'].count()\n",
    "    porcentagemDesligado = ((totalDesligadosexo/totalDesligado)*100).astype(int)\n",
    "    print(f'Porcentagem Desligado pelo sexo: {y}: {porcentagemDesligado}%')"
   ]
  },
  {
   "cell_type": "code",
   "execution_count": null,
   "metadata": {},
   "outputs": [],
   "source": []
  },
  {
   "cell_type": "code",
   "execution_count": null,
   "metadata": {},
   "outputs": [],
   "source": [
    "ax = plt.subplots(figsize=(9, 7))\n",
    "sns.countplot(y=\"admitidos/desligados\", hue=\"sexo\", data=df, palette=\"ch:.25\")"
   ]
  },
  {
   "cell_type": "markdown",
   "id": "latin-recommendation",
   "metadata": {},
   "source": [
    "# Tópico 4 "
   ]
  },
  {
   "cell_type": "code",
   "execution_count": null,
   "id": "aquatic-furniture",
   "metadata": {},
   "outputs": [],
   "source": [
    "df.groupby(by='sexo')['idade'].mean()"
   ]
  },
  {
   "cell_type": "code",
   "execution_count": null,
   "id": "accompanied-internet",
   "metadata": {},
   "outputs": [],
   "source": [
    "df.groupby(by='sexo')['salario'].mean()"
   ]
  },
  {
   "cell_type": "code",
   "execution_count": null,
   "metadata": {},
   "outputs": [],
   "source": [
    "df.groupby(by='sexo')['salario'].max()"
   ]
  },
  {
   "cell_type": "code",
   "execution_count": null,
   "id": "characteristic-brazilian",
   "metadata": {},
   "outputs": [],
   "source": [
    "df['sexo'].value_counts()"
   ]
  },
  {
   "cell_type": "code",
   "execution_count": null,
   "id": "restricted-constraint",
   "metadata": {},
   "outputs": [],
   "source": [
    "fig = plt.figure(figsize=(10, 5))\n",
    "male_only = df[df['sexo'] == 'MASCULINO']\n",
    "female_only = df[df['sexo'] == 'FEMININO']\n",
    "\n",
    "\n",
    "fig = plt.figure(figsize=(5, 5))\n",
    "\n",
    "colors = ['#AFAFF5', '#EFAFB5']\n",
    "labels = ['Masculino', 'Feminino']\n",
    "sizes = [len(male_only), len(female_only)]\n",
    "explode = (0.05, 0)\n",
    "sns.set(font_scale=1.5)\n",
    "ax = plt.pie(sizes, labels=labels, explode=explode, colors=colors, shadow=True, startangle=90, autopct='%1.f%%')\n",
    "\n",
    "plt.title('% Percentual de gênero no dataset')\n",
    "plt.show()"
   ]
  },
  {
   "cell_type": "markdown",
   "id": "handy-processor",
   "metadata": {},
   "source": [
    "## Média salarial por raça/cor"
   ]
  },
  {
   "cell_type": "code",
   "execution_count": null,
   "id": "comparable-cuisine",
   "metadata": {},
   "outputs": [],
   "source": [
    "df.groupby(by='racacor')['salario'].mean()"
   ]
  },
  {
   "cell_type": "code",
   "execution_count": null,
   "id": "assisted-kinase",
   "metadata": {},
   "outputs": [],
   "source": [
    "sns.catplot(x=\"sexo\", y=\"salario\", hue=\"racacor\", kind=\"bar\", data=df)"
   ]
  },
  {
   "cell_type": "code",
   "execution_count": null,
   "id": "tough-drawing",
   "metadata": {},
   "outputs": [],
   "source": [
    "sns.catplot(x=\"admitidos/desligados\", kind=\"count\", palette=\"ch:.25\", data=df)"
   ]
  },
  {
   "cell_type": "code",
   "execution_count": null,
   "id": "unique-scene",
   "metadata": {},
   "outputs": [],
   "source": [
    "df['tipomovimentacao'].value_counts()"
   ]
  },
  {
   "cell_type": "code",
   "execution_count": null,
   "id": "rotary-supplier",
   "metadata": {},
   "outputs": [],
   "source": [
    "df[df['admitidos/desligados'] == 'Desligado']['tipomovimentacao'].value_counts()"
   ]
  },
  {
   "cell_type": "code",
   "execution_count": null,
   "id": "spread-smooth",
   "metadata": {},
   "outputs": [],
   "source": [
    "ax = plt.subplots(figsize=(7, 7))\n",
    "sns.countplot(y=\"tipomovimentacao\", data=df, palette=\"ch:.25\")"
   ]
  },
  {
   "cell_type": "code",
   "execution_count": null,
   "id": "involved-savannah",
   "metadata": {},
   "outputs": [],
   "source": [
    "sns.catplot(x=\"sexo\", y=\"salario\",  palette=\"ch:.25\",kind=\"bar\", data=df)"
   ]
  },
  {
   "cell_type": "code",
   "execution_count": null,
   "id": "level-sword",
   "metadata": {},
   "outputs": [],
   "source": [
    "df.groupby(by=['sexo','admitidos/desligados'])['salario'].mean()"
   ]
  },
  {
   "cell_type": "code",
   "execution_count": null,
   "id": "funny-accommodation",
   "metadata": {},
   "outputs": [],
   "source": [
    "sns.catplot(y=\"admitidos/desligados\", hue=\"sexo\", kind=\"count\",\n",
    "            palette=\"ch:.25\", edgecolor=\".3\",\n",
    "            data=df)"
   ]
  },
  {
   "cell_type": "markdown",
   "id": "convinced-assumption",
   "metadata": {},
   "source": [
    "##  Diferença salarial entre homens e mulheres admitidos e demitidos"
   ]
  },
  {
   "cell_type": "code",
   "execution_count": null,
   "id": "consistent-danger",
   "metadata": {},
   "outputs": [],
   "source": [
    "sns.catplot(x=\"sexo\",palette=\"ch:.25\", y=\"salario\", hue=\"admitidos/desligados\", kind=\"bar\", data=df)"
   ]
  },
  {
   "cell_type": "code",
   "execution_count": 1,
   "id": "premium-court",
   "metadata": {},
   "outputs": [],
   "source": [
    "# Tópico 5 "
   ]
  },
  {
   "cell_type": "code",
   "execution_count": 103,
   "metadata": {},
   "outputs": [
    {
     "output_type": "execute_result",
     "data": {
      "text/plain": [
       "sexo       tipomovimentacao                                \n",
       "FEMININO   Admissão por Reemprego                              500069\n",
       "           Desligamento por Demissão sem Justa Causa           328517\n",
       "           Desligamento a Pedido                               145644\n",
       "           Término contrato trabalho prazo determinado          91664\n",
       "           Admissão por Primeiro Emprego                        39625\n",
       "           Desliamento por Acordo Empregado e Empregador         5884\n",
       "           Desligamento por Demissão com Justa Causa             5683\n",
       "           Desligamento por Término de Contrato                  5254\n",
       "           Não Identificado                                      2293\n",
       "           Admissão por contrato trabalho prazo determinado      2121\n",
       "           Desligamento por morte                                1556\n",
       "           Admissão por Reintegraçao                             1065\n",
       "           Culpa Recíproca                                        860\n",
       "           Desligamento por Aposentadoria                         580\n",
       "           Desligamento de Tipo Ignorado                           15\n",
       "MASCULINO  Admissão por Reemprego                              871369\n",
       "           Desligamento por Demissão sem Justa Causa           546255\n",
       "           Desligamento a Pedido                               205289\n",
       "           Término contrato trabalho prazo determinado         146807\n",
       "           Admissão por Primeiro Emprego                        53291\n",
       "           Desligamento por Demissão com Justa Causa            12910\n",
       "           Desliamento por Acordo Empregado e Empregador        10901\n",
       "           Desligamento por Término de Contrato                  6966\n",
       "           Desligamento por morte                                5298\n",
       "           Não Identificado                                      4612\n",
       "           Admissão por contrato trabalho prazo determinado      2418\n",
       "           Culpa Recíproca                                       1457\n",
       "           Desligamento por Aposentadoria                         806\n",
       "           Admissão por Reintegraçao                              699\n",
       "           Desligamento de Tipo Ignorado                           67\n",
       "Name: tipomovimentacao, dtype: int64"
      ]
     },
     "metadata": {},
     "execution_count": 103
    }
   ],
   "source": [
    "df.groupby(by='sexo')['tipomovimentacao'].value_counts()"
   ]
  },
  {
   "cell_type": "code",
   "execution_count": 104,
   "metadata": {},
   "outputs": [],
   "source": [
    "MOTIVO= {\n",
    "'Admissão por Primeiro Emprego':'Admissão por Primeiro Emprego',\n",
    "'Admissão por Reemprego':'Admissão por Reemprego', \n",
    "'Admissão por contrato trabalho prazo determinado':'Admissão por contrato trabalho prazo determinado',\n",
    "'Desligamento por Demissão sem Justa Causa':'Desligamento por Demissão sem Justa Causa', \n",
    "'Desligamento por Demissão com Justa Causa':'Desligamento por Demissão com Justa Causa', \n",
    "'Culpa Recíproca':'Culpa Recíproca',\n",
    "'Admissão por Reintegraçao':'Admissão por Reintegraçao', \n",
    "'Desligamento a Pedido':'Desligamento a Pedido',\n",
    "'Término contrato trabalho prazo determinado':'Término contrato trabalho prazo determinado',\n",
    "'Desligamento por Término de Contrato':'Desligamento por Término de Contrato',\n",
    "'Desligamento por Aposentadoria':'Desligamento por Aposentadoria', \n",
    "'Desligamento por morte':'Desligamento por morte',\n",
    "'Admissão por Transferência':'Admissão por Transferência', \n",
    "'Desligamento por Transferência':'Desligamento por Transferência', \n",
    "'Desliamento por Acordo Empregado e Empregador':'Desliamento por Acordo Empregado e Empregador',\n",
    "'Desligamento de Tipo Ignorado':'Desligamento de Tipo Ignorado',\n",
    "'Não Identificado':'Não Identificado'}"
   ]
  },
  {
   "cell_type": "code",
   "execution_count": 107,
   "metadata": {},
   "outputs": [],
   "source": [
    "df['tipomovimentacao']= df['tipomovimentacao'].map(MOTIVO)"
   ]
  },
  {
   "cell_type": "code",
   "execution_count": 122,
   "metadata": {},
   "outputs": [],
   "source": [
    "totalmotivosArray = df['admitidos/desligados']\n",
    "totalmotivoscount = df['admitidos/desligados'].count()"
   ]
  },
  {
   "cell_type": "code",
   "execution_count": 124,
   "metadata": {},
   "outputs": [
    {
     "output_type": "error",
     "ename": "KeyError",
     "evalue": "'sexo'",
     "traceback": [
      "\u001b[1;31m---------------------------------------------------------------------------\u001b[0m",
      "\u001b[1;31mKeyError\u001b[0m                                  Traceback (most recent call last)",
      "\u001b[1;32m~\\AppData\\Local\\Programs\\Python\\Python39\\lib\\site-packages\\pandas\\core\\indexes\\base.py\u001b[0m in \u001b[0;36mget_loc\u001b[1;34m(self, key, method, tolerance)\u001b[0m\n\u001b[0;32m   3079\u001b[0m             \u001b[1;32mtry\u001b[0m\u001b[1;33m:\u001b[0m\u001b[1;33m\u001b[0m\u001b[1;33m\u001b[0m\u001b[0m\n\u001b[1;32m-> 3080\u001b[1;33m                 \u001b[1;32mreturn\u001b[0m \u001b[0mself\u001b[0m\u001b[1;33m.\u001b[0m\u001b[0m_engine\u001b[0m\u001b[1;33m.\u001b[0m\u001b[0mget_loc\u001b[0m\u001b[1;33m(\u001b[0m\u001b[0mcasted_key\u001b[0m\u001b[1;33m)\u001b[0m\u001b[1;33m\u001b[0m\u001b[1;33m\u001b[0m\u001b[0m\n\u001b[0m\u001b[0;32m   3081\u001b[0m             \u001b[1;32mexcept\u001b[0m \u001b[0mKeyError\u001b[0m \u001b[1;32mas\u001b[0m \u001b[0merr\u001b[0m\u001b[1;33m:\u001b[0m\u001b[1;33m\u001b[0m\u001b[1;33m\u001b[0m\u001b[0m\n",
      "\u001b[1;32mpandas\\_libs\\index.pyx\u001b[0m in \u001b[0;36mpandas._libs.index.IndexEngine.get_loc\u001b[1;34m()\u001b[0m\n",
      "\u001b[1;32mpandas\\_libs\\index.pyx\u001b[0m in \u001b[0;36mpandas._libs.index.IndexEngine.get_loc\u001b[1;34m()\u001b[0m\n",
      "\u001b[1;32mpandas\\_libs\\index_class_helper.pxi\u001b[0m in \u001b[0;36mpandas._libs.index.Int64Engine._check_type\u001b[1;34m()\u001b[0m\n",
      "\u001b[1;31mKeyError\u001b[0m: 'sexo'",
      "\nThe above exception was the direct cause of the following exception:\n",
      "\u001b[1;31mKeyError\u001b[0m                                  Traceback (most recent call last)",
      "\u001b[1;32m<ipython-input-124-a677f297a7e4>\u001b[0m in \u001b[0;36m<module>\u001b[1;34m\u001b[0m\n\u001b[0;32m      1\u001b[0m \u001b[1;32mfor\u001b[0m \u001b[0mx\u001b[0m\u001b[1;33m,\u001b[0m\u001b[0my\u001b[0m \u001b[1;32min\u001b[0m \u001b[0mMOTIVO\u001b[0m\u001b[1;33m.\u001b[0m\u001b[0mitems\u001b[0m\u001b[1;33m(\u001b[0m\u001b[1;33m)\u001b[0m\u001b[1;33m:\u001b[0m\u001b[1;33m\u001b[0m\u001b[1;33m\u001b[0m\u001b[0m\n\u001b[1;32m----> 2\u001b[1;33m     \u001b[0mtotalmotivo\u001b[0m \u001b[1;33m=\u001b[0m \u001b[1;33m(\u001b[0m\u001b[0mtotalmotivosArray\u001b[0m\u001b[1;33m[\u001b[0m\u001b[0mtotalmotivosArray\u001b[0m\u001b[1;33m[\u001b[0m\u001b[1;34m'sexo'\u001b[0m\u001b[1;33m]\u001b[0m\u001b[1;33m==\u001b[0m\u001b[1;34m'FEMININO'\u001b[0m\u001b[1;33m]\u001b[0m\u001b[1;33m)\u001b[0m\u001b[1;33m[\u001b[0m\u001b[1;34m'tipomovimentacao'\u001b[0m\u001b[1;33m]\u001b[0m\u001b[1;33m.\u001b[0m\u001b[0mcount\u001b[0m\u001b[1;33m(\u001b[0m\u001b[1;33m)\u001b[0m\u001b[1;33m\u001b[0m\u001b[1;33m\u001b[0m\u001b[0m\n\u001b[0m\u001b[0;32m      3\u001b[0m     \u001b[0mporcentagemmotivo\u001b[0m \u001b[1;33m=\u001b[0m \u001b[1;33m(\u001b[0m\u001b[1;33m(\u001b[0m\u001b[0mtotalmotivo\u001b[0m\u001b[1;33m/\u001b[0m\u001b[0mtotal\u001b[0m\u001b[1;33m)\u001b[0m\u001b[1;33m*\u001b[0m\u001b[1;36m100\u001b[0m\u001b[1;33m)\u001b[0m\u001b[1;33m.\u001b[0m\u001b[0mastype\u001b[0m\u001b[1;33m(\u001b[0m\u001b[0mint\u001b[0m\u001b[1;33m)\u001b[0m\u001b[1;33m\u001b[0m\u001b[1;33m\u001b[0m\u001b[0m\n\u001b[0;32m      4\u001b[0m     \u001b[0mprint\u001b[0m\u001b[1;33m(\u001b[0m\u001b[1;34mf'Porcentagem dos motivos por gênero: {y}: {porcentagemmotivo}%'\u001b[0m\u001b[1;33m)\u001b[0m\u001b[1;33m\u001b[0m\u001b[1;33m\u001b[0m\u001b[0m\n",
      "\u001b[1;32m~\\AppData\\Local\\Programs\\Python\\Python39\\lib\\site-packages\\pandas\\core\\series.py\u001b[0m in \u001b[0;36m__getitem__\u001b[1;34m(self, key)\u001b[0m\n\u001b[0;32m    849\u001b[0m \u001b[1;33m\u001b[0m\u001b[0m\n\u001b[0;32m    850\u001b[0m         \u001b[1;32melif\u001b[0m \u001b[0mkey_is_scalar\u001b[0m\u001b[1;33m:\u001b[0m\u001b[1;33m\u001b[0m\u001b[1;33m\u001b[0m\u001b[0m\n\u001b[1;32m--> 851\u001b[1;33m             \u001b[1;32mreturn\u001b[0m \u001b[0mself\u001b[0m\u001b[1;33m.\u001b[0m\u001b[0m_get_value\u001b[0m\u001b[1;33m(\u001b[0m\u001b[0mkey\u001b[0m\u001b[1;33m)\u001b[0m\u001b[1;33m\u001b[0m\u001b[1;33m\u001b[0m\u001b[0m\n\u001b[0m\u001b[0;32m    852\u001b[0m \u001b[1;33m\u001b[0m\u001b[0m\n\u001b[0;32m    853\u001b[0m         \u001b[1;32mif\u001b[0m \u001b[0mis_hashable\u001b[0m\u001b[1;33m(\u001b[0m\u001b[0mkey\u001b[0m\u001b[1;33m)\u001b[0m\u001b[1;33m:\u001b[0m\u001b[1;33m\u001b[0m\u001b[1;33m\u001b[0m\u001b[0m\n",
      "\u001b[1;32m~\\AppData\\Local\\Programs\\Python\\Python39\\lib\\site-packages\\pandas\\core\\series.py\u001b[0m in \u001b[0;36m_get_value\u001b[1;34m(self, label, takeable)\u001b[0m\n\u001b[0;32m    957\u001b[0m \u001b[1;33m\u001b[0m\u001b[0m\n\u001b[0;32m    958\u001b[0m         \u001b[1;31m# Similar to Index.get_value, but we do not fall back to positional\u001b[0m\u001b[1;33m\u001b[0m\u001b[1;33m\u001b[0m\u001b[1;33m\u001b[0m\u001b[0m\n\u001b[1;32m--> 959\u001b[1;33m         \u001b[0mloc\u001b[0m \u001b[1;33m=\u001b[0m \u001b[0mself\u001b[0m\u001b[1;33m.\u001b[0m\u001b[0mindex\u001b[0m\u001b[1;33m.\u001b[0m\u001b[0mget_loc\u001b[0m\u001b[1;33m(\u001b[0m\u001b[0mlabel\u001b[0m\u001b[1;33m)\u001b[0m\u001b[1;33m\u001b[0m\u001b[1;33m\u001b[0m\u001b[0m\n\u001b[0m\u001b[0;32m    960\u001b[0m         \u001b[1;32mreturn\u001b[0m \u001b[0mself\u001b[0m\u001b[1;33m.\u001b[0m\u001b[0mindex\u001b[0m\u001b[1;33m.\u001b[0m\u001b[0m_get_values_for_loc\u001b[0m\u001b[1;33m(\u001b[0m\u001b[0mself\u001b[0m\u001b[1;33m,\u001b[0m \u001b[0mloc\u001b[0m\u001b[1;33m,\u001b[0m \u001b[0mlabel\u001b[0m\u001b[1;33m)\u001b[0m\u001b[1;33m\u001b[0m\u001b[1;33m\u001b[0m\u001b[0m\n\u001b[0;32m    961\u001b[0m \u001b[1;33m\u001b[0m\u001b[0m\n",
      "\u001b[1;32m~\\AppData\\Local\\Programs\\Python\\Python39\\lib\\site-packages\\pandas\\core\\indexes\\base.py\u001b[0m in \u001b[0;36mget_loc\u001b[1;34m(self, key, method, tolerance)\u001b[0m\n\u001b[0;32m   3080\u001b[0m                 \u001b[1;32mreturn\u001b[0m \u001b[0mself\u001b[0m\u001b[1;33m.\u001b[0m\u001b[0m_engine\u001b[0m\u001b[1;33m.\u001b[0m\u001b[0mget_loc\u001b[0m\u001b[1;33m(\u001b[0m\u001b[0mcasted_key\u001b[0m\u001b[1;33m)\u001b[0m\u001b[1;33m\u001b[0m\u001b[1;33m\u001b[0m\u001b[0m\n\u001b[0;32m   3081\u001b[0m             \u001b[1;32mexcept\u001b[0m \u001b[0mKeyError\u001b[0m \u001b[1;32mas\u001b[0m \u001b[0merr\u001b[0m\u001b[1;33m:\u001b[0m\u001b[1;33m\u001b[0m\u001b[1;33m\u001b[0m\u001b[0m\n\u001b[1;32m-> 3082\u001b[1;33m                 \u001b[1;32mraise\u001b[0m \u001b[0mKeyError\u001b[0m\u001b[1;33m(\u001b[0m\u001b[0mkey\u001b[0m\u001b[1;33m)\u001b[0m \u001b[1;32mfrom\u001b[0m \u001b[0merr\u001b[0m\u001b[1;33m\u001b[0m\u001b[1;33m\u001b[0m\u001b[0m\n\u001b[0m\u001b[0;32m   3083\u001b[0m \u001b[1;33m\u001b[0m\u001b[0m\n\u001b[0;32m   3084\u001b[0m         \u001b[1;32mif\u001b[0m \u001b[0mtolerance\u001b[0m \u001b[1;32mis\u001b[0m \u001b[1;32mnot\u001b[0m \u001b[1;32mNone\u001b[0m\u001b[1;33m:\u001b[0m\u001b[1;33m\u001b[0m\u001b[1;33m\u001b[0m\u001b[0m\n",
      "\u001b[1;31mKeyError\u001b[0m: 'sexo'"
     ]
    }
   ],
   "source": [
    "for x,y in MOTIVO.items():\n",
    "    totalmotivo = (totalmotivosArray[totalmotivosArray['sexo']=='FEMININO'])['tipomovimentacao'].count()\n",
    "    porcentagemmotivo = ((totalmotivo/total)*100).astype(int)\n",
    "    print(f'Porcentagem dos motivos por gênero: {y}: {porcentagemmotivo}%')"
   ]
  },
  {
   "cell_type": "code",
   "execution_count": null,
   "metadata": {},
   "outputs": [],
   "source": [
    "fig = plt.figure(figsize=(10, 5))\n",
    "male_only = df[df['sexo'] == 'MASCULINO']\n",
    "female_only = df[df['sexo'] == 'FEMININO']\n",
    "\n",
    "\n",
    "fig = plt.figure(figsize=(5, 5))\n",
    "\n",
    "colors = ['#AFAFF5', '#EFAFB5']\n",
    "labels = ['Masculino', 'Feminino']\n",
    "sizes = [len(male_only), len(female_only)]\n",
    "explode = (0.05, 0)\n",
    "sns.set(font_scale=1.5)\n",
    "ax = plt.pie(sizes, labels=labels, explode=explode, colors=colors, shadow=True, startangle=90, autopct='%1.f%%')\n",
    "\n",
    "plt.title('% Percentual de gênero no dataset')\n",
    "plt.show()"
   ]
  },
  {
   "cell_type": "code",
   "execution_count": null,
   "metadata": {},
   "outputs": [],
   "source": []
  }
 ],
 "metadata": {
  "kernelspec": {
   "name": "python392jvsc74a57bd062026d6115dea9c7533ba2d3966bb08acda9af192e1196f8f3ea7b4d1bcb3324",
   "display_name": "Python 3.9.2 64-bit"
  },
  "language_info": {
   "codemirror_mode": {
    "name": "ipython",
    "version": 3
   },
   "file_extension": ".py",
   "mimetype": "text/x-python",
   "name": "python",
   "nbconvert_exporter": "python",
   "pygments_lexer": "ipython3",
   "version": "3.9.2"
  }
 },
 "nbformat": 4,
 "nbformat_minor": 5
}