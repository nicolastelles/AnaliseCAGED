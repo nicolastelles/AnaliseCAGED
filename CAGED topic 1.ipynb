{
 "cells": [
  {
   "cell_type": "code",
   "execution_count": 600,
   "id": "76ae329f",
   "metadata": {},
   "outputs": [],
   "source": [
    "import pandas as pd\n",
    "import matplotlib\n",
    "import seaborn as sns"
   ]
  },
  {
   "cell_type": "code",
   "execution_count": 601,
   "id": "c17db835",
   "metadata": {},
   "outputs": [],
   "source": [
    "df = pd.read_csv('CAGEDMOV202005.csv',encoding = 'utf-8', delimiter=\";\", low_memory=False)"
   ]
  },
  {
   "cell_type": "code",
   "execution_count": 602,
   "id": "ecebb8dc",
   "metadata": {},
   "outputs": [
    {
     "name": "stdout",
     "output_type": "stream",
     "text": [
      "<class 'pandas.core.frame.DataFrame'>\n",
      "RangeIndex: 1048575 entries, 0 to 1048574\n",
      "Data columns (total 24 columns):\n",
      " #   Column               Non-Null Count    Dtype  \n",
      "---  ------               --------------    -----  \n",
      " 0   competência          1048575 non-null  int64  \n",
      " 1   região               1048575 non-null  int64  \n",
      " 2   uf                   1048575 non-null  int64  \n",
      " 3   município            1048575 non-null  int64  \n",
      " 4   seção                1048575 non-null  object \n",
      " 5   subclasse            1048575 non-null  int64  \n",
      " 6   saldomovimentação    1048575 non-null  int64  \n",
      " 7   cbo2002ocupação      1048575 non-null  int64  \n",
      " 8   categoria            1048575 non-null  int64  \n",
      " 9   graudeinstrução      1048575 non-null  int64  \n",
      " 10  idade                1048572 non-null  float64\n",
      " 11  horascontratuais     1048575 non-null  int64  \n",
      " 12  raçacor              1048575 non-null  int64  \n",
      " 13  sexo                 1048575 non-null  int64  \n",
      " 14  tipoempregador       1048575 non-null  int64  \n",
      " 15  tipoestabelecimento  1048575 non-null  int64  \n",
      " 16  tipomovimentação     1048575 non-null  int64  \n",
      " 17  tipodedeficiência    1048575 non-null  int64  \n",
      " 18  indtrabintermitente  1048575 non-null  int64  \n",
      " 19  indtrabparcial       1048575 non-null  int64  \n",
      " 20  salário              1048566 non-null  object \n",
      " 21  tamestabjan          1048575 non-null  int64  \n",
      " 22  indicadoraprendiz    1048575 non-null  int64  \n",
      " 23  fonte                1048575 non-null  int64  \n",
      "dtypes: float64(1), int64(21), object(2)\n",
      "memory usage: 192.0+ MB\n"
     ]
    }
   ],
   "source": [
    "df.info()"
   ]
  },
  {
   "cell_type": "code",
   "execution_count": 603,
   "id": "a284a952",
   "metadata": {},
   "outputs": [],
   "source": [
    "df['salário']=df['salário'].apply(lambda x :  str(x).replace(',','.'))"
   ]
  },
  {
   "cell_type": "code",
   "execution_count": 604,
   "id": "fe0818e3",
   "metadata": {},
   "outputs": [],
   "source": [
    "df['salário']=df['salário'].apply(lambda x :  str(x).replace('nan','0'))"
   ]
  },
  {
   "cell_type": "code",
   "execution_count": 605,
   "id": "048936d5",
   "metadata": {},
   "outputs": [],
   "source": [
    "df['salário']=pd.to_numeric(df['salário'], downcast=\"float\")"
   ]
  },
  {
   "cell_type": "code",
   "execution_count": 606,
   "id": "bc2207b4",
   "metadata": {},
   "outputs": [],
   "source": [
    "def categorizarClasseSocial(x):\n",
    "    #try:\n",
    "        #x=float(x)\n",
    "\n",
    "        if x<2200:\n",
    "            return 'E'\n",
    "        elif x<4400:\n",
    "            return 'D'\n",
    "        elif x<11000:\n",
    "            return 'C'\n",
    "        elif x<22000:\n",
    "            return 'B'\n",
    "        else:\n",
    "            return 'A'\n",
    "\n",
    "#    except:\n",
    " #       print(\"caca: \"+x)"
   ]
  },
  {
   "cell_type": "code",
   "execution_count": 607,
   "id": "654b6146",
   "metadata": {},
   "outputs": [],
   "source": [
    "df['classe social'] = df['salário'].apply(lambda x: categorizarClasseSocial(x))"
   ]
  },
  {
   "cell_type": "code",
   "execution_count": 608,
   "id": "2f954d3a",
   "metadata": {},
   "outputs": [],
   "source": [
    "def categorizarFaixaEtaria(x):\n",
    "        if x<20:\n",
    "            return \"Adolescência\"\n",
    "        elif x<26:\n",
    "            return \"Pós-adolescência\"\n",
    "        elif x<40:\n",
    "            return \"Adultidade\"\n",
    "        elif x<65:\n",
    "            return \"Meia-idade\"\n",
    "        elif x<80:\n",
    "            return \"Terceira idade\"\n",
    "        else:\n",
    "            return \"Quarta Idade\""
   ]
  },
  {
   "cell_type": "code",
   "execution_count": 609,
   "id": "fda4b5e2",
   "metadata": {},
   "outputs": [],
   "source": [
    "df['faixa Etária'] = df['idade'].apply(lambda x: categorizarFaixaEtaria(x))"
   ]
  },
  {
   "cell_type": "markdown",
   "id": "eb314bcf",
   "metadata": {},
   "source": [
    "### Criar coluna admitidos/desligados apartir dos dados de tipomovimentação"
   ]
  },
  {
   "cell_type": "code",
   "execution_count": 610,
   "id": "11d95dcb",
   "metadata": {},
   "outputs": [],
   "source": [
    "df['admitidos/desligados'] = df['tipomovimentação'].apply(lambda x: \"Admitido\" if x==10 or x==20 or x==25 or x==35 or x==70 else \"Desligado\")"
   ]
  },
  {
   "cell_type": "markdown",
   "id": "612b50f1",
   "metadata": {},
   "source": [
    "### Calcular total admitido e total desligado"
   ]
  },
  {
   "cell_type": "code",
   "execution_count": 611,
   "id": "bff71533",
   "metadata": {},
   "outputs": [],
   "source": [
    "total = df['admitidos/desligados'].count()"
   ]
  },
  {
   "cell_type": "markdown",
   "id": "2c343c82",
   "metadata": {},
   "source": [
    "### Cria um array só com admitidos"
   ]
  },
  {
   "cell_type": "code",
   "execution_count": 612,
   "id": "e6c24497",
   "metadata": {},
   "outputs": [],
   "source": [
    "totalAdmitidoArray = df[df['admitidos/desligados'] == \"Admitido\"]"
   ]
  },
  {
   "cell_type": "code",
   "execution_count": 613,
   "id": "92659531",
   "metadata": {},
   "outputs": [],
   "source": [
    "totalAdmitido = totalAdmitidoArray['admitidos/desligados'].count()"
   ]
  },
  {
   "cell_type": "markdown",
   "id": "4c2f8176",
   "metadata": {},
   "source": [
    "### Cria um array só com desligados"
   ]
  },
  {
   "cell_type": "code",
   "execution_count": 614,
   "id": "f86c6202",
   "metadata": {},
   "outputs": [],
   "source": [
    "totalDesligadoArray = df[df['admitidos/desligados'] == \"Desligado\"]"
   ]
  },
  {
   "cell_type": "code",
   "execution_count": 615,
   "id": "236af3ca",
   "metadata": {},
   "outputs": [],
   "source": [
    "totalDesligado = total - totalAdmitido"
   ]
  },
  {
   "cell_type": "markdown",
   "id": "b14d1983",
   "metadata": {},
   "source": [
    "# Começa a calcular os items pedidos"
   ]
  },
  {
   "cell_type": "markdown",
   "id": "ec447125",
   "metadata": {},
   "source": [
    "## Indice sexo"
   ]
  },
  {
   "cell_type": "markdown",
   "id": "438beb58",
   "metadata": {},
   "source": [
    "### Admitidos"
   ]
  },
  {
   "cell_type": "code",
   "execution_count": 616,
   "id": "008be5f4",
   "metadata": {},
   "outputs": [],
   "source": [
    "TotalAdmitidoFem = (totalAdmitidoArray[totalAdmitidoArray['sexo']==1])['admitidos/desligados'].count()"
   ]
  },
  {
   "cell_type": "code",
   "execution_count": 617,
   "id": "010a2eed",
   "metadata": {},
   "outputs": [],
   "source": [
    "TotalAdmitidoMasc = totalAdmitido - TotalAdmitidoFem"
   ]
  },
  {
   "cell_type": "code",
   "execution_count": 618,
   "id": "5921ecba",
   "metadata": {},
   "outputs": [],
   "source": [
    "porcentagemAdmitidoFem = ((TotalAdmitidoFem/totalAdmitido)*100).astype(int)"
   ]
  },
  {
   "cell_type": "code",
   "execution_count": 619,
   "id": "dbd8fa25",
   "metadata": {},
   "outputs": [],
   "source": [
    "porcentagemAdmitidoMasc = 100-porcentagemAdmitidoFem"
   ]
  },
  {
   "cell_type": "code",
   "execution_count": 620,
   "id": "c67f20dd",
   "metadata": {},
   "outputs": [
    {
     "data": {
      "text/plain": [
       "'Porcentagem Admitido feminino: 65% Porcentagem Admitido Masculino 35%'"
      ]
     },
     "execution_count": 620,
     "metadata": {},
     "output_type": "execute_result"
    }
   ],
   "source": [
    "f'Porcentagem Admitido feminino: {porcentagemAdmitidoFem}% Porcentagem Admitido Masculino {porcentagemAdmitidoMasc}%'"
   ]
  },
  {
   "cell_type": "markdown",
   "id": "09ef4d52",
   "metadata": {},
   "source": [
    "### Desligados"
   ]
  },
  {
   "cell_type": "code",
   "execution_count": 621,
   "id": "a1b0a34a",
   "metadata": {},
   "outputs": [],
   "source": [
    "TotalDesligadoFem = (totalDesligadoArray[totalDesligadoArray['sexo']==1])['admitidos/desligados'].count()"
   ]
  },
  {
   "cell_type": "code",
   "execution_count": 622,
   "id": "bc320411",
   "metadata": {},
   "outputs": [],
   "source": [
    "TotalDesligadoMasc = totalDesligado - TotalDesligadoFem"
   ]
  },
  {
   "cell_type": "code",
   "execution_count": 623,
   "id": "0cc32aaf",
   "metadata": {},
   "outputs": [],
   "source": [
    "porcentagemDesligadoFem = ((TotalDesligadoFem/totalDesligado)*100).astype(int)"
   ]
  },
  {
   "cell_type": "code",
   "execution_count": 624,
   "id": "cecef197",
   "metadata": {},
   "outputs": [],
   "source": [
    "porcentagemDesligadoMasc = 100-porcentagemDesligadoFem"
   ]
  },
  {
   "cell_type": "code",
   "execution_count": 625,
   "id": "b329b114",
   "metadata": {
    "scrolled": true
   },
   "outputs": [
    {
     "data": {
      "text/plain": [
       "'Porcentagem Desligado feminino: 62% Porcentagem Desligado Masculino 38%'"
      ]
     },
     "execution_count": 625,
     "metadata": {},
     "output_type": "execute_result"
    }
   ],
   "source": [
    "f'Porcentagem Desligado feminino: {porcentagemDesligadoFem}% Porcentagem Desligado Masculino {porcentagemDesligadoMasc}%'"
   ]
  },
  {
   "cell_type": "markdown",
   "id": "194a3439",
   "metadata": {},
   "source": [
    "## Indice Classe social"
   ]
  },
  {
   "cell_type": "code",
   "execution_count": 626,
   "id": "24c05ff2",
   "metadata": {},
   "outputs": [],
   "source": [
    "classes=['A','B','C','D','E']"
   ]
  },
  {
   "cell_type": "markdown",
   "id": "fb665e73",
   "metadata": {},
   "source": [
    "### Admitidos"
   ]
  },
  {
   "cell_type": "code",
   "execution_count": 627,
   "id": "a6557e10",
   "metadata": {
    "scrolled": true
   },
   "outputs": [
    {
     "name": "stdout",
     "output_type": "stream",
     "text": [
      "Porcentagem Admitidos classe A: 47%\n",
      "Porcentagem Admitidos classe B: 0%\n",
      "Porcentagem Admitidos classe C: 1%\n",
      "Porcentagem Admitidos classe D: 4%\n",
      "Porcentagem Admitidos classe E: 45%\n"
     ]
    }
   ],
   "source": [
    "for x in classes: \n",
    "    totalAdmitidoClasse = (totalAdmitidoArray[totalAdmitidoArray['classe social']==x])['admitidos/desligados'].count()\n",
    "    porcentagemAdmitido = ((totalAdmitidoClasse/totalAdmitido)*100).astype(int)\n",
    "    print(f'Porcentagem Admitidos classe {x}: {porcentagemAdmitido}%')"
   ]
  },
  {
   "cell_type": "markdown",
   "id": "f4a20dfd",
   "metadata": {},
   "source": [
    "### Desligados"
   ]
  },
  {
   "cell_type": "code",
   "execution_count": 628,
   "id": "482bb1cb",
   "metadata": {},
   "outputs": [
    {
     "name": "stdout",
     "output_type": "stream",
     "text": [
      "Porcentagem Desligado classe A: 52%\n",
      "Porcentagem Desligado classe B: 0%\n",
      "Porcentagem Desligado classe C: 1%\n",
      "Porcentagem Desligado classe D: 4%\n",
      "Porcentagem Desligado classe E: 41%\n"
     ]
    }
   ],
   "source": [
    "for x in classes: \n",
    "    totalDesligadoClasse = (totalDesligadoArray[totalDesligadoArray['classe social']==x])['admitidos/desligados'].count()\n",
    "    porcentagemDesligado = ((totalDesligadoClasse/totalDesligado)*100).astype(int)\n",
    "    print(f'Porcentagem Desligado classe {x}: {porcentagemDesligado}%')"
   ]
  },
  {
   "cell_type": "markdown",
   "id": "7f667477",
   "metadata": {},
   "source": [
    "## Indice faixa etaria"
   ]
  },
  {
   "cell_type": "code",
   "execution_count": 629,
   "id": "2bd4e09b",
   "metadata": {},
   "outputs": [],
   "source": [
    "faixaEtarias = [\"Adolescência\",\"Pós-adolescência\",\"Adultidade\",\"Meia-idade\",\"Terceira idade\",\"Quarta Idade\"]"
   ]
  },
  {
   "cell_type": "markdown",
   "id": "b2ae85cd",
   "metadata": {},
   "source": [
    "### Classificação faixa etaria\n",
    "    15 a 20 anos: Adolescência\n",
    "    20 a 26 anos: Pós-adolescência\n",
    "    26 a 40 anos: Adultidade\n",
    "    40 a 65 anos: Meia-idade\n",
    "    65 a 80 anos: Terceira idade\n",
    "    mais que 80 anos: Quarta Idade"
   ]
  },
  {
   "cell_type": "markdown",
   "id": "7bc61222",
   "metadata": {},
   "source": [
    "### Admitidos"
   ]
  },
  {
   "cell_type": "code",
   "execution_count": 630,
   "id": "26945193",
   "metadata": {},
   "outputs": [
    {
     "name": "stdout",
     "output_type": "stream",
     "text": [
      "Porcentagem Admitidos Faixa Etaria Adolescência: 8%\n",
      "Porcentagem Admitidos Faixa Etaria Pós-adolescência: 23%\n",
      "Porcentagem Admitidos Faixa Etaria Adultidade: 44%\n",
      "Porcentagem Admitidos Faixa Etaria Meia-idade: 23%\n",
      "Porcentagem Admitidos Faixa Etaria Terceira idade: 0%\n",
      "Porcentagem Admitidos Faixa Etaria Quarta Idade: 0%\n"
     ]
    }
   ],
   "source": [
    "for x in faixaEtarias:\n",
    "    totalAdmitidoFaixaEtaria = (totalAdmitidoArray[totalAdmitidoArray['faixa Etária']==x])['admitidos/desligados'].count()\n",
    "    porcentagemAdmitido = ((totalAdmitidoFaixaEtaria/totalAdmitido)*100).astype(int)\n",
    "    print(f'Porcentagem Admitidos Faixa Etaria {x}: {porcentagemAdmitido}%')"
   ]
  },
  {
   "cell_type": "code",
   "execution_count": 631,
   "id": "0297458c",
   "metadata": {},
   "outputs": [
    {
     "name": "stdout",
     "output_type": "stream",
     "text": [
      "Porcentagem Desligado Faixa Etaria Adolescência: 5%\n",
      "Porcentagem Desligado Faixa Etaria Pós-adolescência: 20%\n",
      "Porcentagem Desligado Faixa Etaria Adultidade: 42%\n",
      "Porcentagem Desligado Faixa Etaria Meia-idade: 29%\n",
      "Porcentagem Desligado Faixa Etaria Terceira idade: 1%\n",
      "Porcentagem Desligado Faixa Etaria Quarta Idade: 0%\n"
     ]
    }
   ],
   "source": [
    "for x in faixaEtarias:\n",
    "    totalDesligadoFaixaEtaria = (totalDesligadoArray[totalDesligadoArray['faixa Etária']==x])['admitidos/desligados'].count()\n",
    "    porcentagemDesligado = ((totalDesligadoFaixaEtaria/totalDesligado)*100).astype(int)\n",
    "    print(f'Porcentagem Desligado Faixa Etaria {x}: {porcentagemDesligado}%')"
   ]
  }
 ],
 "metadata": {
  "kernelspec": {
   "display_name": "Python 3",
   "language": "python",
   "name": "python3"
  },
  "language_info": {
   "codemirror_mode": {
    "name": "ipython",
    "version": 3
   },
   "file_extension": ".py",
   "mimetype": "text/x-python",
   "name": "python",
   "nbconvert_exporter": "python",
   "pygments_lexer": "ipython3",
   "version": "3.9.2"
  }
 },
 "nbformat": 4,
 "nbformat_minor": 5
}
