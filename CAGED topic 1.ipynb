{
 "cells": [
  {
   "cell_type": "code",
   "execution_count": 470,
   "id": "76ae329f",
   "metadata": {},
   "outputs": [],
   "source": [
    "import pandas as pd\n",
    "import matplotlib\n",
    "import seaborn as sns"
   ]
  },
  {
   "cell_type": "code",
   "execution_count": 471,
   "id": "c17db835",
   "metadata": {},
   "outputs": [],
   "source": [
    "df = pd.read_csv('CAGEDMOV202005.csv',encoding = 'utf-8', delimiter=\";\", low_memory=False)"
   ]
  },
  {
   "cell_type": "code",
   "execution_count": 472,
   "id": "ecebb8dc",
   "metadata": {},
   "outputs": [
    {
     "name": "stdout",
     "output_type": "stream",
     "text": [
      "<class 'pandas.core.frame.DataFrame'>\n",
      "RangeIndex: 1048575 entries, 0 to 1048574\n",
      "Data columns (total 24 columns):\n",
      " #   Column               Non-Null Count    Dtype  \n",
      "---  ------               --------------    -----  \n",
      " 0   competência          1048575 non-null  int64  \n",
      " 1   região               1048575 non-null  int64  \n",
      " 2   uf                   1048575 non-null  int64  \n",
      " 3   município            1048575 non-null  int64  \n",
      " 4   seção                1048575 non-null  object \n",
      " 5   subclasse            1048575 non-null  int64  \n",
      " 6   saldomovimentação    1048575 non-null  int64  \n",
      " 7   cbo2002ocupação      1048575 non-null  int64  \n",
      " 8   categoria            1048575 non-null  int64  \n",
      " 9   graudeinstrução      1048575 non-null  int64  \n",
      " 10  idade                1048572 non-null  float64\n",
      " 11  horascontratuais     1048575 non-null  int64  \n",
      " 12  raçacor              1048575 non-null  int64  \n",
      " 13  sexo                 1048575 non-null  int64  \n",
      " 14  tipoempregador       1048575 non-null  int64  \n",
      " 15  tipoestabelecimento  1048575 non-null  int64  \n",
      " 16  tipomovimentação     1048575 non-null  int64  \n",
      " 17  tipodedeficiência    1048575 non-null  int64  \n",
      " 18  indtrabintermitente  1048575 non-null  int64  \n",
      " 19  indtrabparcial       1048575 non-null  int64  \n",
      " 20  salário              1048566 non-null  object \n",
      " 21  tamestabjan          1048575 non-null  int64  \n",
      " 22  indicadoraprendiz    1048575 non-null  int64  \n",
      " 23  fonte                1048575 non-null  int64  \n",
      "dtypes: float64(1), int64(21), object(2)\n",
      "memory usage: 192.0+ MB\n"
     ]
    }
   ],
   "source": [
    "df.info()"
   ]
  },
  {
   "cell_type": "code",
   "execution_count": 473,
   "id": "c47e6c16",
   "metadata": {},
   "outputs": [],
   "source": [
    "def categorizarClasseSocial(x):\n",
    "    try:\n",
    "        x=float(x)\n",
    "\n",
    "        if x<2200:\n",
    "            return 'E'\n",
    "        elif x<4400:\n",
    "            return 'D'\n",
    "        elif x<11000:\n",
    "            return 'C'\n",
    "        elif x<22000:\n",
    "            return 'B'\n",
    "        else:\n",
    "            return 'A'\n",
    "\n",
    "    except:\n",
    "        return"
   ]
  },
  {
   "cell_type": "code",
   "execution_count": 474,
   "id": "05103b91",
   "metadata": {},
   "outputs": [],
   "source": [
    "df['classe social'] = df['salário'].apply(lambda x: categorizarClasseSocial(x))"
   ]
  },
  {
   "cell_type": "markdown",
   "id": "eb314bcf",
   "metadata": {},
   "source": [
    "### Criar coluna admitidos/desligados apartir dos dados de tipomovimentação"
   ]
  },
  {
   "cell_type": "code",
   "execution_count": 475,
   "id": "11d95dcb",
   "metadata": {},
   "outputs": [],
   "source": [
    "df['admitidos/desligados'] = df['tipomovimentação'].apply(lambda x: \"Admitido\" if x==10 or x==20 or x==25 or x==35 or x==70 else \"Desligado\")"
   ]
  },
  {
   "cell_type": "markdown",
   "id": "612b50f1",
   "metadata": {},
   "source": [
    "### Calcular total admitido e total desligado"
   ]
  },
  {
   "cell_type": "code",
   "execution_count": 476,
   "id": "bff71533",
   "metadata": {},
   "outputs": [],
   "source": [
    "total = df['admitidos/desligados'].count()"
   ]
  },
  {
   "cell_type": "markdown",
   "id": "2c343c82",
   "metadata": {},
   "source": [
    "### Cria o array para ficar mais facil"
   ]
  },
  {
   "cell_type": "code",
   "execution_count": 477,
   "id": "e6c24497",
   "metadata": {},
   "outputs": [],
   "source": [
    "totalAdmitidoArray = df[df['admitidos/desligados'] == \"Admitido\"]"
   ]
  },
  {
   "cell_type": "code",
   "execution_count": 478,
   "id": "92659531",
   "metadata": {},
   "outputs": [],
   "source": [
    "totalAdmitido = totalAdmitidoArray['admitidos/desligados'].count()"
   ]
  },
  {
   "cell_type": "code",
   "execution_count": 479,
   "id": "f86c6202",
   "metadata": {},
   "outputs": [],
   "source": [
    "totalDesligadoArray = df[df['admitidos/desligados'] == \"Desligado\"]"
   ]
  },
  {
   "cell_type": "code",
   "execution_count": 480,
   "id": "236af3ca",
   "metadata": {},
   "outputs": [],
   "source": [
    "totalDesligado = total - totalAdmitido"
   ]
  },
  {
   "cell_type": "markdown",
   "id": "b14d1983",
   "metadata": {},
   "source": [
    "# Começa a calcular os items pedidos"
   ]
  },
  {
   "cell_type": "markdown",
   "id": "315659c6",
   "metadata": {},
   "source": [
    "## Indice sexo"
   ]
  },
  {
   "cell_type": "markdown",
   "id": "438beb58",
   "metadata": {},
   "source": [
    "### Admitidos"
   ]
  },
  {
   "cell_type": "code",
   "execution_count": 482,
   "id": "008be5f4",
   "metadata": {},
   "outputs": [],
   "source": [
    "TotalAdmitidoFem = (totalAdmitidoArray[totalAdmitidoArray['sexo']==1])['admitidos/desligados'].count()"
   ]
  },
  {
   "cell_type": "code",
   "execution_count": 483,
   "id": "010a2eed",
   "metadata": {},
   "outputs": [],
   "source": [
    "TotalAdmitidoMasc = totalAdmitido - TotalAdmitidoFem"
   ]
  },
  {
   "cell_type": "code",
   "execution_count": 484,
   "id": "5921ecba",
   "metadata": {},
   "outputs": [],
   "source": [
    "porcentagemAdmitidoFem = ((TotalAdmitidoFem/totalAdmitido)*100).astype(int)"
   ]
  },
  {
   "cell_type": "code",
   "execution_count": 485,
   "id": "dbd8fa25",
   "metadata": {},
   "outputs": [],
   "source": [
    "porcentagemAdmitidoMasc = 100-porcentagemAdmitidoFem"
   ]
  },
  {
   "cell_type": "code",
   "execution_count": 486,
   "id": "c67f20dd",
   "metadata": {},
   "outputs": [
    {
     "data": {
      "text/plain": [
       "'Porcentagem Admitido feminino: 65% Porcentagem Admitido Masculino 35%'"
      ]
     },
     "execution_count": 486,
     "metadata": {},
     "output_type": "execute_result"
    }
   ],
   "source": [
    "f'Porcentagem Admitido feminino: {porcentagemAdmitidoFem}% Porcentagem Admitido Masculino {porcentagemAdmitidoMasc}%'"
   ]
  },
  {
   "cell_type": "markdown",
   "id": "09ef4d52",
   "metadata": {},
   "source": [
    "### Desligados"
   ]
  },
  {
   "cell_type": "code",
   "execution_count": 487,
   "id": "a1b0a34a",
   "metadata": {},
   "outputs": [],
   "source": [
    "TotalDesligadoFem = (totalDesligadoArray[totalDesligadoArray['sexo']==1])['admitidos/desligados'].count()"
   ]
  },
  {
   "cell_type": "code",
   "execution_count": 488,
   "id": "bc320411",
   "metadata": {},
   "outputs": [],
   "source": [
    "TotalDesligadoMasc = totalDesligado - TotalDesligadoFem"
   ]
  },
  {
   "cell_type": "code",
   "execution_count": 489,
   "id": "0cc32aaf",
   "metadata": {},
   "outputs": [],
   "source": [
    "porcentagemDesligadoFem = ((TotalDesligadoFem/totalDesligado)*100).astype(int)"
   ]
  },
  {
   "cell_type": "code",
   "execution_count": 490,
   "id": "cecef197",
   "metadata": {},
   "outputs": [],
   "source": [
    "porcentagemDesligadoMasc = 100-porcentagemDesligadoFem"
   ]
  },
  {
   "cell_type": "code",
   "execution_count": 491,
   "id": "b329b114",
   "metadata": {
    "scrolled": true
   },
   "outputs": [
    {
     "data": {
      "text/plain": [
       "'Porcentagem Desligado feminino: 62% Porcentagem Desligado Masculino 38%'"
      ]
     },
     "execution_count": 491,
     "metadata": {},
     "output_type": "execute_result"
    }
   ],
   "source": [
    "f'Porcentagem Desligado feminino: {porcentagemDesligadoFem}% Porcentagem Desligado Masculino {porcentagemDesligadoMasc}%'"
   ]
  },
  {
   "cell_type": "markdown",
   "id": "194a3439",
   "metadata": {},
   "source": [
    "## Indice Classe social"
   ]
  },
  {
   "cell_type": "markdown",
   "id": "5bb91c6b",
   "metadata": {},
   "source": [
    "### Admitidos"
   ]
  },
  {
   "cell_type": "code",
   "execution_count": 492,
   "id": "1349ad9c",
   "metadata": {},
   "outputs": [
    {
     "data": {
      "text/plain": [
       "0             D\n",
       "1             E\n",
       "2          None\n",
       "3             D\n",
       "4             E\n",
       "           ... \n",
       "1048570       E\n",
       "1048571       E\n",
       "1048572       E\n",
       "1048573       E\n",
       "1048574    None\n",
       "Name: classe social, Length: 1048575, dtype: object"
      ]
     },
     "execution_count": 492,
     "metadata": {},
     "output_type": "execute_result"
    }
   ],
   "source": [
    "df['classe social']"
   ]
  },
  {
   "cell_type": "code",
   "execution_count": 493,
   "id": "e11319eb",
   "metadata": {},
   "outputs": [],
   "source": [
    "classes=['A','B','C','D','E']"
   ]
  },
  {
   "cell_type": "code",
   "execution_count": 494,
   "id": "bb5cf3f6",
   "metadata": {},
   "outputs": [],
   "source": [
    "### Admitidos"
   ]
  },
  {
   "cell_type": "code",
   "execution_count": 495,
   "id": "2a2bff4a",
   "metadata": {},
   "outputs": [
    {
     "name": "stdout",
     "output_type": "stream",
     "text": [
      "Porcentagem Admitidos classe A: 0%\n",
      "Porcentagem Admitidos classe B: 0%\n",
      "Porcentagem Admitidos classe C: 1%\n",
      "Porcentagem Admitidos classe D: 4%\n",
      "Porcentagem Admitidos classe E: 45%\n"
     ]
    }
   ],
   "source": [
    "for x in classes: \n",
    "    totalAdmitidoClasse = (totalAdmitidoArray[totalAdmitidoArray['classe social']==x])['admitidos/desligados'].count()\n",
    "    porcentagemAdmitido = ((totalAdmitidoClasse/totalAdmitido)*100).astype(int)\n",
    "    print(f'Porcentagem Admitidos classe {x}: {porcentagemAdmitido}%')"
   ]
  },
  {
   "cell_type": "markdown",
   "id": "85829d25",
   "metadata": {},
   "source": [
    "### Desligados"
   ]
  },
  {
   "cell_type": "code",
   "execution_count": 496,
   "id": "a089d6ff",
   "metadata": {},
   "outputs": [
    {
     "name": "stdout",
     "output_type": "stream",
     "text": [
      "Porcentagem Desligado classe A: 0%\n",
      "Porcentagem Desligado classe B: 0%\n",
      "Porcentagem Desligado classe C: 1%\n",
      "Porcentagem Desligado classe D: 4%\n",
      "Porcentagem Desligado classe E: 41%\n"
     ]
    }
   ],
   "source": [
    "for x in classes: \n",
    "    totalDesligadoClasse = (totalDesligadoArray[totalDesligadoArray['classe social']==x])['admitidos/desligados'].count()\n",
    "    porcentagemDesligado = ((totalDesligadoClasse/totalDesligado)*100).astype(int)\n",
    "    print(f'Porcentagem Desligado classe {x}: {porcentagemDesligado}%')"
   ]
  }
 ],
 "metadata": {
  "kernelspec": {
   "display_name": "Python 3",
   "language": "python",
   "name": "python3"
  },
  "language_info": {
   "codemirror_mode": {
    "name": "ipython",
    "version": 3
   },
   "file_extension": ".py",
   "mimetype": "text/x-python",
   "name": "python",
   "nbconvert_exporter": "python",
   "pygments_lexer": "ipython3",
   "version": "3.9.2"
  }
 },
 "nbformat": 4,
 "nbformat_minor": 5
}
