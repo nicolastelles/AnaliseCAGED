{
 "cells": [
  {
   "cell_type": "code",
   "execution_count": 173,
   "id": "76ae329f",
   "metadata": {},
   "outputs": [],
   "source": [
    "import pandas as pd\n",
    "import matplotlib\n",
    "import seaborn as sns"
   ]
  },
  {
   "cell_type": "code",
   "execution_count": 174,
   "id": "c17db835",
   "metadata": {},
   "outputs": [],
   "source": [
    "df = pd.read_csv('CAGEDMOV202005.csv',encoding = 'utf-8', delimiter=\";\", low_memory=False)"
   ]
  },
  {
   "cell_type": "code",
   "execution_count": 175,
   "id": "ecebb8dc",
   "metadata": {},
   "outputs": [
    {
     "name": "stdout",
     "output_type": "stream",
     "text": [
      "<class 'pandas.core.frame.DataFrame'>\n",
      "RangeIndex: 1048575 entries, 0 to 1048574\n",
      "Data columns (total 24 columns):\n",
      " #   Column               Non-Null Count    Dtype  \n",
      "---  ------               --------------    -----  \n",
      " 0   competência          1048575 non-null  int64  \n",
      " 1   região               1048575 non-null  int64  \n",
      " 2   uf                   1048575 non-null  int64  \n",
      " 3   município            1048575 non-null  int64  \n",
      " 4   seção                1048575 non-null  object \n",
      " 5   subclasse            1048575 non-null  int64  \n",
      " 6   saldomovimentação    1048575 non-null  int64  \n",
      " 7   cbo2002ocupação      1048575 non-null  int64  \n",
      " 8   categoria            1048575 non-null  int64  \n",
      " 9   graudeinstrução      1048575 non-null  int64  \n",
      " 10  idade                1048572 non-null  float64\n",
      " 11  horascontratuais     1048575 non-null  int64  \n",
      " 12  raçacor              1048575 non-null  int64  \n",
      " 13  sexo                 1048575 non-null  int64  \n",
      " 14  tipoempregador       1048575 non-null  int64  \n",
      " 15  tipoestabelecimento  1048575 non-null  int64  \n",
      " 16  tipomovimentação     1048575 non-null  int64  \n",
      " 17  tipodedeficiência    1048575 non-null  int64  \n",
      " 18  indtrabintermitente  1048575 non-null  int64  \n",
      " 19  indtrabparcial       1048575 non-null  int64  \n",
      " 20  salário              1048566 non-null  object \n",
      " 21  tamestabjan          1048575 non-null  int64  \n",
      " 22  indicadoraprendiz    1048575 non-null  int64  \n",
      " 23  fonte                1048575 non-null  int64  \n",
      "dtypes: float64(1), int64(21), object(2)\n",
      "memory usage: 192.0+ MB\n"
     ]
    }
   ],
   "source": [
    "df.info()"
   ]
  },
  {
   "cell_type": "code",
   "execution_count": 176,
   "id": "3bc82929",
   "metadata": {},
   "outputs": [],
   "source": [
    "df['salário']=df['salário'].apply(lambda x :  str(x).replace(',','.'))"
   ]
  },
  {
   "cell_type": "code",
   "execution_count": 177,
   "id": "2fd3ecfc",
   "metadata": {},
   "outputs": [],
   "source": [
    "df['salário']=df['salário'].apply(lambda x :  str(x).replace('nan','0'))"
   ]
  },
  {
   "cell_type": "code",
   "execution_count": 178,
   "id": "44ec1858",
   "metadata": {},
   "outputs": [],
   "source": [
    "df['salário']=pd.to_numeric(df['salário'], downcast=\"float\")"
   ]
  },
  {
   "cell_type": "code",
   "execution_count": 179,
   "id": "eccfa616",
   "metadata": {},
   "outputs": [],
   "source": [
    "def categorizarClasseSocial(x):\n",
    "    #try:\n",
    "        #x=float(x)\n",
    "\n",
    "        if x<2200:\n",
    "            return 'E'\n",
    "        elif x<4400:\n",
    "            return 'D'\n",
    "        elif x<11000:\n",
    "            return 'C'\n",
    "        elif x<22000:\n",
    "            return 'B'\n",
    "        else:\n",
    "            return 'A'\n",
    "\n",
    "#    except:\n",
    " #       print(\"caca: \"+x)"
   ]
  },
  {
   "cell_type": "code",
   "execution_count": 180,
   "id": "9c0ae439",
   "metadata": {},
   "outputs": [],
   "source": [
    "df['classe social'] = df['salário'].apply(lambda x: categorizarClasseSocial(x))"
   ]
  },
  {
   "cell_type": "code",
   "execution_count": 181,
   "id": "c3e26bea",
   "metadata": {},
   "outputs": [],
   "source": [
    "def categorizarFaixaEtaria(x):\n",
    "        if x<20:\n",
    "            return \"Adolescência\"\n",
    "        elif x<26:\n",
    "            return \"Pós-adolescência\"\n",
    "        elif x<40:\n",
    "            return \"Adultidade\"\n",
    "        elif x<65:\n",
    "            return \"Meia-idade\"\n",
    "        elif x<80:\n",
    "            return \"Terceira idade\"\n",
    "        else:\n",
    "            return \"Quarta Idade\""
   ]
  },
  {
   "cell_type": "code",
   "execution_count": 182,
   "id": "8adcd654",
   "metadata": {},
   "outputs": [],
   "source": [
    "df['faixa Etária'] = df['idade'].apply(lambda x: categorizarFaixaEtaria(x))"
   ]
  },
  {
   "cell_type": "markdown",
   "id": "eb314bcf",
   "metadata": {},
   "source": [
    "### Criar coluna admitidos/desligados apartir dos dados de tipomovimentação"
   ]
  },
  {
   "cell_type": "code",
   "execution_count": 183,
   "id": "11d95dcb",
   "metadata": {},
   "outputs": [],
   "source": [
    "df['admitidos/desligados'] = df['tipomovimentação'].apply(lambda x: \"Admitido\" if x==10 or x==20 or x==25 or x==35 or x==70 else \"Desligado\")"
   ]
  },
  {
   "cell_type": "markdown",
   "id": "612b50f1",
   "metadata": {},
   "source": [
    "### Calcular total admitido e total desligado"
   ]
  },
  {
   "cell_type": "code",
   "execution_count": 184,
   "id": "bff71533",
   "metadata": {},
   "outputs": [],
   "source": [
    "total = df['admitidos/desligados'].count()"
   ]
  },
  {
   "cell_type": "markdown",
   "id": "2c343c82",
   "metadata": {},
   "source": [
    "### Cria um array só com admitidos"
   ]
  },
  {
   "cell_type": "code",
   "execution_count": 185,
   "id": "e6c24497",
   "metadata": {},
   "outputs": [],
   "source": [
    "totalAdmitidoArray = df[df['admitidos/desligados'] == \"Admitido\"]"
   ]
  },
  {
   "cell_type": "code",
   "execution_count": 186,
   "id": "92659531",
   "metadata": {},
   "outputs": [],
   "source": [
    "totalAdmitido = totalAdmitidoArray['admitidos/desligados'].count()"
   ]
  },
  {
   "cell_type": "markdown",
   "id": "4cb6b419",
   "metadata": {},
   "source": [
    "### Cria um array só com desligados"
   ]
  },
  {
   "cell_type": "code",
   "execution_count": 187,
   "id": "f86c6202",
   "metadata": {},
   "outputs": [],
   "source": [
    "totalDesligadoArray = df[df['admitidos/desligados'] == \"Desligado\"]"
   ]
  },
  {
   "cell_type": "code",
   "execution_count": 188,
   "id": "236af3ca",
   "metadata": {},
   "outputs": [],
   "source": [
    "totalDesligado = total - totalAdmitido"
   ]
  },
  {
   "cell_type": "markdown",
   "id": "b14d1983",
   "metadata": {},
   "source": [
    "# Começa a calcular os items pedidos"
   ]
  },
  {
   "cell_type": "markdown",
   "id": "f6e731f7",
   "metadata": {},
   "source": [
    "## Indice sexo"
   ]
  },
  {
   "cell_type": "markdown",
   "id": "438beb58",
   "metadata": {},
   "source": [
    "### Admitidos"
   ]
  },
  {
   "cell_type": "code",
   "execution_count": 189,
   "id": "008be5f4",
   "metadata": {},
   "outputs": [],
   "source": [
    "TotalAdmitidoFem = (totalAdmitidoArray[totalAdmitidoArray['sexo']==1])['admitidos/desligados'].count()"
   ]
  },
  {
   "cell_type": "code",
   "execution_count": 190,
   "id": "010a2eed",
   "metadata": {},
   "outputs": [],
   "source": [
    "TotalAdmitidoMasc = totalAdmitido - TotalAdmitidoFem"
   ]
  },
  {
   "cell_type": "code",
   "execution_count": 191,
   "id": "5921ecba",
   "metadata": {},
   "outputs": [],
   "source": [
    "porcentagemAdmitidoFem = ((TotalAdmitidoFem/totalAdmitido)*100).astype(int)"
   ]
  },
  {
   "cell_type": "code",
   "execution_count": 192,
   "id": "dbd8fa25",
   "metadata": {},
   "outputs": [],
   "source": [
    "porcentagemAdmitidoMasc = 100-porcentagemAdmitidoFem"
   ]
  },
  {
   "cell_type": "code",
   "execution_count": 193,
   "id": "c67f20dd",
   "metadata": {},
   "outputs": [
    {
     "data": {
      "text/plain": [
       "'Porcentagem Admitido feminino: 65% Porcentagem Admitido Masculino 35%'"
      ]
     },
     "execution_count": 193,
     "metadata": {},
     "output_type": "execute_result"
    }
   ],
   "source": [
    "f'Porcentagem Admitido feminino: {porcentagemAdmitidoFem}% Porcentagem Admitido Masculino {porcentagemAdmitidoMasc}%'"
   ]
  },
  {
   "cell_type": "markdown",
   "id": "09ef4d52",
   "metadata": {},
   "source": [
    "### Desligados"
   ]
  },
  {
   "cell_type": "code",
   "execution_count": 194,
   "id": "a1b0a34a",
   "metadata": {},
   "outputs": [],
   "source": [
    "TotalDesligadoFem = (totalDesligadoArray[totalDesligadoArray['sexo']==1])['admitidos/desligados'].count()"
   ]
  },
  {
   "cell_type": "code",
   "execution_count": 195,
   "id": "bc320411",
   "metadata": {},
   "outputs": [],
   "source": [
    "TotalDesligadoMasc = totalDesligado - TotalDesligadoFem"
   ]
  },
  {
   "cell_type": "code",
   "execution_count": 196,
   "id": "0cc32aaf",
   "metadata": {},
   "outputs": [],
   "source": [
    "porcentagemDesligadoFem = ((TotalDesligadoFem/totalDesligado)*100).astype(int)"
   ]
  },
  {
   "cell_type": "code",
   "execution_count": 197,
   "id": "cecef197",
   "metadata": {},
   "outputs": [],
   "source": [
    "porcentagemDesligadoMasc = 100-porcentagemDesligadoFem"
   ]
  },
  {
   "cell_type": "code",
   "execution_count": 198,
   "id": "b329b114",
   "metadata": {
    "scrolled": true
   },
   "outputs": [
    {
     "data": {
      "text/plain": [
       "'Porcentagem Desligado feminino: 62% Porcentagem Desligado Masculino 38%'"
      ]
     },
     "execution_count": 198,
     "metadata": {},
     "output_type": "execute_result"
    }
   ],
   "source": [
    "f'Porcentagem Desligado feminino: {porcentagemDesligadoFem}% Porcentagem Desligado Masculino {porcentagemDesligadoMasc}%'"
   ]
  },
  {
   "cell_type": "markdown",
   "id": "194a3439",
   "metadata": {},
   "source": [
    "## Indice Classe social"
   ]
  },
  {
   "cell_type": "code",
   "execution_count": 199,
   "id": "4e73a63b",
   "metadata": {},
   "outputs": [],
   "source": [
    "classes=['A','B','C','D','E']"
   ]
  },
  {
   "cell_type": "markdown",
   "id": "d9b18d33",
   "metadata": {},
   "source": [
    "### Admitidos"
   ]
  },
  {
   "cell_type": "code",
   "execution_count": 200,
   "id": "b2183750",
   "metadata": {
    "scrolled": true
   },
   "outputs": [
    {
     "name": "stdout",
     "output_type": "stream",
     "text": [
      "Porcentagem Admitidos classe A: 47%\n",
      "Porcentagem Admitidos classe B: 0%\n",
      "Porcentagem Admitidos classe C: 1%\n",
      "Porcentagem Admitidos classe D: 4%\n",
      "Porcentagem Admitidos classe E: 45%\n"
     ]
    }
   ],
   "source": [
    "for x in classes: \n",
    "    totalAdmitidoClasse = (totalAdmitidoArray[totalAdmitidoArray['classe social']==x])['admitidos/desligados'].count()\n",
    "    porcentagemAdmitido = ((totalAdmitidoClasse/totalAdmitido)*100).astype(int)\n",
    "    print(f'Porcentagem Admitidos classe {x}: {porcentagemAdmitido}%')"
   ]
  },
  {
   "cell_type": "markdown",
   "id": "e07ef96d",
   "metadata": {},
   "source": [
    "### Desligados"
   ]
  },
  {
   "cell_type": "code",
   "execution_count": 201,
   "id": "2b875ed6",
   "metadata": {},
   "outputs": [
    {
     "name": "stdout",
     "output_type": "stream",
     "text": [
      "Porcentagem Desligado classe A: 52%\n",
      "Porcentagem Desligado classe B: 0%\n",
      "Porcentagem Desligado classe C: 1%\n",
      "Porcentagem Desligado classe D: 4%\n",
      "Porcentagem Desligado classe E: 41%\n"
     ]
    }
   ],
   "source": [
    "for x in classes: \n",
    "    totalDesligadoClasse = (totalDesligadoArray[totalDesligadoArray['classe social']==x])['admitidos/desligados'].count()\n",
    "    porcentagemDesligado = ((totalDesligadoClasse/totalDesligado)*100).astype(int)\n",
    "    print(f'Porcentagem Desligado classe {x}: {porcentagemDesligado}%')"
   ]
  },
  {
   "cell_type": "markdown",
   "id": "a09c9091",
   "metadata": {},
   "source": [
    "## Indice faixa etaria"
   ]
  },
  {
   "cell_type": "markdown",
   "id": "16e074e9",
   "metadata": {},
   "source": [
    "### Classificação faixa etaria\n",
    "    15 a 20 anos: Adolescência\n",
    "    20 a 26 anos: Pós-adolescência\n",
    "    26 a 40 anos: Adultidade\n",
    "    40 a 65 anos: Meia-idade\n",
    "    65 a 80 anos: Terceira idade\n",
    "    mais que 80 anos: Quarta Idade"
   ]
  },
  {
   "cell_type": "code",
   "execution_count": 202,
   "id": "8f145d68",
   "metadata": {},
   "outputs": [],
   "source": [
    "faixaEtarias = {\n",
    "    \"Adolescência\":\"15 a 20 anos\",\n",
    "    \"Pós-adolescência\":\"20 a 26 anos\",\n",
    "    \"Adultidade\":\"26 a 40 anos\",\n",
    "    \"Meia-idade\":\"40 a 65 anos\",\n",
    "    \"Terceira idade\":\"65 a 80 anos\",\n",
    "    \"Quarta Idade\":\"mais que 80 anos\"\n",
    "    }"
   ]
  },
  {
   "cell_type": "markdown",
   "id": "18db30c9",
   "metadata": {},
   "source": [
    "### Admitidos"
   ]
  },
  {
   "cell_type": "code",
   "execution_count": 203,
   "id": "1e6ff384",
   "metadata": {},
   "outputs": [
    {
     "name": "stdout",
     "output_type": "stream",
     "text": [
      "Porcentagem Admitidos Adolescência (15 a 20 anos): 8%\n",
      "Porcentagem Admitidos Pós-adolescência (20 a 26 anos): 23%\n",
      "Porcentagem Admitidos Adultidade (26 a 40 anos): 44%\n",
      "Porcentagem Admitidos Meia-idade (40 a 65 anos): 23%\n",
      "Porcentagem Admitidos Terceira idade (65 a 80 anos): 0%\n",
      "Porcentagem Admitidos Quarta Idade (mais que 80 anos): 0%\n"
     ]
    }
   ],
   "source": [
    "for x,y in faixaEtarias.items():\n",
    "    totalAdmitidoFaixaEtaria = (totalAdmitidoArray[totalAdmitidoArray['faixa Etária']==x])['admitidos/desligados'].count()\n",
    "    porcentagemAdmitido = ((totalAdmitidoFaixaEtaria/totalAdmitido)*100).astype(int)\n",
    "    print(f'Porcentagem Admitidos {x} ({y}): {porcentagemAdmitido}%')"
   ]
  },
  {
   "cell_type": "markdown",
   "id": "143537b0",
   "metadata": {},
   "source": [
    "### Desligados"
   ]
  },
  {
   "cell_type": "code",
   "execution_count": 204,
   "id": "0e1fddc2",
   "metadata": {},
   "outputs": [
    {
     "name": "stdout",
     "output_type": "stream",
     "text": [
      "Porcentagem Desligado Adolescência (15 a 20 anos): 5%\n",
      "Porcentagem Desligado Pós-adolescência (20 a 26 anos): 20%\n",
      "Porcentagem Desligado Adultidade (26 a 40 anos): 42%\n",
      "Porcentagem Desligado Meia-idade (40 a 65 anos): 29%\n",
      "Porcentagem Desligado Terceira idade (65 a 80 anos): 1%\n",
      "Porcentagem Desligado Quarta Idade (mais que 80 anos): 0%\n"
     ]
    }
   ],
   "source": [
    "for x,y in faixaEtarias.items():\n",
    "    totalDesligadoFaixaEtaria = (totalDesligadoArray[totalDesligadoArray['faixa Etária']==x])['admitidos/desligados'].count()\n",
    "    porcentagemDesligado = ((totalDesligadoFaixaEtaria/totalDesligado)*100).astype(int)\n",
    "    print(f'Porcentagem Desligado {x} ({y}): {porcentagemDesligado}%')"
   ]
  },
  {
   "cell_type": "markdown",
   "id": "8df5483e",
   "metadata": {},
   "source": [
    "## Indice Grau Instrução"
   ]
  },
  {
   "cell_type": "code",
   "execution_count": 205,
   "id": "acb96612",
   "metadata": {},
   "outputs": [],
   "source": [
    "grauInstrução = {\n",
    "    1:\"Analfabeto\",\n",
    "    2:\"Até 5ª Incompleto\",\n",
    "    3:\"5ª Completo Fundamental\",\n",
    "    4:\"6ª a 9ª Fundamental\",\n",
    "    5:\"Fundamental Completo\",\n",
    "    6:\"Médio Incompleto\",\n",
    "    7:\"Médio Completo\",\n",
    "    8:\"Superior Incompleto\",\n",
    "    9:\"Superior Completo\",\n",
    "    10:\"Mestrado\",\n",
    "    11:\"Doutorado\",\n",
    "    80:\"Pós-Graduação completa\",\n",
    "    99:\"Não Identificado\"\n",
    "}"
   ]
  },
  {
   "cell_type": "markdown",
   "id": "78779a28",
   "metadata": {},
   "source": [
    "### Admitidos"
   ]
  },
  {
   "cell_type": "code",
   "execution_count": 206,
   "id": "b0145726",
   "metadata": {},
   "outputs": [
    {
     "name": "stdout",
     "output_type": "stream",
     "text": [
      "Porcentagem Admitidos Analfabeto: 0%\n",
      "Porcentagem Admitidos Até 5ª Incompleto: 3%\n",
      "Porcentagem Admitidos 5ª Completo Fundamental: 2%\n",
      "Porcentagem Admitidos 6ª a 9ª Fundamental: 5%\n",
      "Porcentagem Admitidos Fundamental Completo: 8%\n",
      "Porcentagem Admitidos Médio Incompleto: 6%\n",
      "Porcentagem Admitidos Médio Completo: 59%\n",
      "Porcentagem Admitidos Superior Incompleto: 3%\n",
      "Porcentagem Admitidos Superior Completo: 8%\n",
      "Porcentagem Admitidos Mestrado: 0%\n",
      "Porcentagem Admitidos Doutorado: 0%\n",
      "Porcentagem Admitidos Pós-Graduação completa: 0%\n",
      "Porcentagem Admitidos Não Identificado: 0%\n"
     ]
    }
   ],
   "source": [
    "for x,y in grauInstrução.items():\n",
    "    totalAdmitidoGrauInstrução = (totalAdmitidoArray[totalAdmitidoArray['graudeinstrução']==x])['admitidos/desligados'].count()\n",
    "    porcentagemAdmitido = ((totalAdmitidoGrauInstrução/totalAdmitido)*100).astype(int)\n",
    "    print(f'Porcentagem Admitidos {y}: {porcentagemAdmitido}%')"
   ]
  },
  {
   "cell_type": "markdown",
   "id": "b00f73d4",
   "metadata": {},
   "source": [
    "### Desligados"
   ]
  },
  {
   "cell_type": "code",
   "execution_count": 207,
   "id": "8c981288",
   "metadata": {},
   "outputs": [
    {
     "name": "stdout",
     "output_type": "stream",
     "text": [
      "Porcentagem Desligado Analfabeto: 0%\n",
      "Porcentagem Desligado Até 5ª Incompleto: 2%\n",
      "Porcentagem Desligado 5ª Completo Fundamental: 2%\n",
      "Porcentagem Desligado 6ª a 9ª Fundamental: 6%\n",
      "Porcentagem Desligado Fundamental Completo: 9%\n",
      "Porcentagem Desligado Médio Incompleto: 8%\n",
      "Porcentagem Desligado Médio Completo: 57%\n",
      "Porcentagem Desligado Superior Incompleto: 3%\n",
      "Porcentagem Desligado Superior Completo: 8%\n",
      "Porcentagem Desligado Mestrado: 0%\n",
      "Porcentagem Desligado Doutorado: 0%\n",
      "Porcentagem Desligado Pós-Graduação completa: 0%\n",
      "Porcentagem Desligado Não Identificado: 0%\n"
     ]
    }
   ],
   "source": [
    "for x,y in grauInstrução.items():\n",
    "    totalDesligadoGrauInstrução = (totalDesligadoArray[totalDesligadoArray['graudeinstrução']==x])['admitidos/desligados'].count()\n",
    "    porcentagemDesligado = ((totalDesligadoGrauInstrução/totalDesligado)*100).astype(int)\n",
    "    print(f'Porcentagem Desligado {y}: {porcentagemDesligado}%')"
   ]
  },
  {
   "cell_type": "markdown",
   "id": "22629924",
   "metadata": {},
   "source": [
    "## Indice Setores"
   ]
  },
  {
   "cell_type": "code",
   "execution_count": 208,
   "id": "98639abe",
   "metadata": {},
   "outputs": [],
   "source": [
    "setores ={\n",
    "    \"A\":\"Agricultura, Pecuária, Produção Florestal, Pesca e AqÜIcultura\",\n",
    "    \"B\":\"Indústrias Extrativas\",\n",
    "    \"C\":\"Indústrias de Transformação\",\n",
    "    \"D\":\"Eletricidade e Gás\",\n",
    "    \"E\":\"Água, Esgoto, Atividades de Gestão de Resíduos e Descontaminação\",\n",
    "    \"F\":\"Construção\",\n",
    "    \"G\":\"Comércio, Reparação de Veículos Automotores e Motocicletas\",\n",
    "    \"H\":\"Transporte, Armazenagem e Correio\",\n",
    "    \"I\":\"Alojamento e Alimentação\",\n",
    "    \"J\":\"Informação e Comunicação\",\n",
    "    \"K\":\"Atividades Financeiras, de Seguros e Serviços Relacionados\",\n",
    "    \"L\":\"Atividades Imobiliárias\",\n",
    "    \"M\":\"Atividades Profissionais, Científicas e Técnicas\",\n",
    "    \"N\":\"Atividades Administrativas e Serviços Complementares\",\n",
    "    \"O\":\"Administração Pública, Defesa e Seguridade Social\",\n",
    "    \"P\":\"Educação\",\n",
    "    \"Q\":\"Saúde Humana e Serviços Sociais\",\n",
    "    \"R\":\"Artes, Cultura, Esporte e Recreação\",\n",
    "    \"S\":\"Outras Atividades de Serviços\",\n",
    "    \"T\":\"Serviços Domésticos\",\n",
    "    \"U\":\"Organismos Internacionais e Outras Instituições Extraterritoriais\",\n",
    "    \"Z\":\"Não identificado\"\n",
    "}"
   ]
  },
  {
   "cell_type": "markdown",
   "id": "4c8ad30b",
   "metadata": {},
   "source": [
    "### Admitidos"
   ]
  },
  {
   "cell_type": "code",
   "execution_count": 209,
   "id": "2a5e9bdc",
   "metadata": {},
   "outputs": [
    {
     "name": "stdout",
     "output_type": "stream",
     "text": [
      "Porcentagem Admitidos do setor: Agricultura, Pecuária, Produção Florestal, Pesca e AqÜIcultura: 9%\n",
      "Porcentagem Admitidos do setor: Indústrias Extrativas: 0%\n",
      "Porcentagem Admitidos do setor: Indústrias de Transformação: 12%\n",
      "Porcentagem Admitidos do setor: Eletricidade e Gás: 0%\n",
      "Porcentagem Admitidos do setor: Água, Esgoto, Atividades de Gestão de Resíduos e Descontaminação: 0%\n",
      "Porcentagem Admitidos do setor: Construção: 12%\n",
      "Porcentagem Admitidos do setor: Comércio, Reparação de Veículos Automotores e Motocicletas: 20%\n",
      "Porcentagem Admitidos do setor: Transporte, Armazenagem e Correio: 5%\n",
      "Porcentagem Admitidos do setor: Alojamento e Alimentação: 2%\n",
      "Porcentagem Admitidos do setor: Informação e Comunicação: 1%\n",
      "Porcentagem Admitidos do setor: Atividades Financeiras, de Seguros e Serviços Relacionados: 0%\n",
      "Porcentagem Admitidos do setor: Atividades Imobiliárias: 0%\n",
      "Porcentagem Admitidos do setor: Atividades Profissionais, Científicas e Técnicas: 3%\n",
      "Porcentagem Admitidos do setor: Atividades Administrativas e Serviços Complementares: 19%\n",
      "Porcentagem Admitidos do setor: Administração Pública, Defesa e Seguridade Social: 0%\n",
      "Porcentagem Admitidos do setor: Educação: 1%\n",
      "Porcentagem Admitidos do setor: Saúde Humana e Serviços Sociais: 7%\n",
      "Porcentagem Admitidos do setor: Artes, Cultura, Esporte e Recreação: 0%\n",
      "Porcentagem Admitidos do setor: Outras Atividades de Serviços: 1%\n",
      "Porcentagem Admitidos do setor: Serviços Domésticos: 0%\n",
      "Porcentagem Admitidos do setor: Organismos Internacionais e Outras Instituições Extraterritoriais: 0%\n",
      "Porcentagem Admitidos do setor: Não identificado: 0%\n"
     ]
    }
   ],
   "source": [
    "for x,y in setores.items():\n",
    "    totalAdmitidoSetores = (totalAdmitidoArray[totalAdmitidoArray['seção']==x])['admitidos/desligados'].count()\n",
    "    porcentagemAdmitido = ((totalAdmitidoSetores/totalAdmitido)*100).astype(int)\n",
    "    print(f'Porcentagem Admitidos do setor: {y}: {porcentagemAdmitido}%')"
   ]
  },
  {
   "cell_type": "markdown",
   "id": "a82db90c",
   "metadata": {},
   "source": [
    "### Desligados"
   ]
  },
  {
   "cell_type": "code",
   "execution_count": 210,
   "id": "a12caf54",
   "metadata": {},
   "outputs": [
    {
     "name": "stdout",
     "output_type": "stream",
     "text": [
      "Porcentagem Desligado do setor: Agricultura, Pecuária, Produção Florestal, Pesca e AqÜIcultura: 5%\n",
      "Porcentagem Desligado do setor: Indústrias Extrativas: 0%\n",
      "Porcentagem Desligado do setor: Indústrias de Transformação: 17%\n",
      "Porcentagem Desligado do setor: Eletricidade e Gás: 0%\n",
      "Porcentagem Desligado do setor: Água, Esgoto, Atividades de Gestão de Resíduos e Descontaminação: 0%\n",
      "Porcentagem Desligado do setor: Construção: 10%\n",
      "Porcentagem Desligado do setor: Comércio, Reparação de Veículos Automotores e Motocicletas: 22%\n",
      "Porcentagem Desligado do setor: Transporte, Armazenagem e Correio: 6%\n",
      "Porcentagem Desligado do setor: Alojamento e Alimentação: 6%\n",
      "Porcentagem Desligado do setor: Informação e Comunicação: 1%\n",
      "Porcentagem Desligado do setor: Atividades Financeiras, de Seguros e Serviços Relacionados: 0%\n",
      "Porcentagem Desligado do setor: Atividades Imobiliárias: 0%\n",
      "Porcentagem Desligado do setor: Atividades Profissionais, Científicas e Técnicas: 3%\n",
      "Porcentagem Desligado do setor: Atividades Administrativas e Serviços Complementares: 15%\n",
      "Porcentagem Desligado do setor: Administração Pública, Defesa e Seguridade Social: 0%\n",
      "Porcentagem Desligado do setor: Educação: 2%\n",
      "Porcentagem Desligado do setor: Saúde Humana e Serviços Sociais: 4%\n",
      "Porcentagem Desligado do setor: Artes, Cultura, Esporte e Recreação: 0%\n",
      "Porcentagem Desligado do setor: Outras Atividades de Serviços: 2%\n",
      "Porcentagem Desligado do setor: Serviços Domésticos: 0%\n",
      "Porcentagem Desligado do setor: Organismos Internacionais e Outras Instituições Extraterritoriais: 0%\n",
      "Porcentagem Desligado do setor: Não identificado: 0%\n"
     ]
    }
   ],
   "source": [
    "for x,y in setores.items():\n",
    "    totalDesligadoSetores = (totalDesligadoArray[totalDesligadoArray['seção']==x])['admitidos/desligados'].count()\n",
    "    porcentagemDesligado = ((totalDesligadoSetores/totalDesligado)*100).astype(int)\n",
    "    print(f'Porcentagem Desligado do setor: {y}: {porcentagemDesligado}%')"
   ]
  }
 ],
 "metadata": {
  "kernelspec": {
   "display_name": "Python 3",
   "language": "python",
   "name": "python3"
  },
  "language_info": {
   "codemirror_mode": {
    "name": "ipython",
    "version": 3
   },
   "file_extension": ".py",
   "mimetype": "text/x-python",
   "name": "python",
   "nbconvert_exporter": "python",
   "pygments_lexer": "ipython3",
   "version": "3.9.2"
  }
 },
 "nbformat": 4,
 "nbformat_minor": 5
}
