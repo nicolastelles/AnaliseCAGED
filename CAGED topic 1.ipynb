{
 "cells": [
  {
   "cell_type": "code",
   "execution_count": 528,
   "id": "76ae329f",
   "metadata": {},
   "outputs": [],
   "source": [
    "import pandas as pd\n",
    "import matplotlib\n",
    "import seaborn as sns"
   ]
  },
  {
   "cell_type": "code",
   "execution_count": 529,
   "id": "c17db835",
   "metadata": {},
   "outputs": [],
   "source": [
    "df = pd.read_csv('CAGEDMOV202005.csv',encoding = 'utf-8', delimiter=\";\", low_memory=False)"
   ]
  },
  {
   "cell_type": "code",
   "execution_count": 530,
   "id": "ecebb8dc",
   "metadata": {},
   "outputs": [
    {
     "name": "stdout",
     "output_type": "stream",
     "text": [
      "<class 'pandas.core.frame.DataFrame'>\n",
      "RangeIndex: 1048575 entries, 0 to 1048574\n",
      "Data columns (total 24 columns):\n",
      " #   Column               Non-Null Count    Dtype  \n",
      "---  ------               --------------    -----  \n",
      " 0   competência          1048575 non-null  int64  \n",
      " 1   região               1048575 non-null  int64  \n",
      " 2   uf                   1048575 non-null  int64  \n",
      " 3   município            1048575 non-null  int64  \n",
      " 4   seção                1048575 non-null  object \n",
      " 5   subclasse            1048575 non-null  int64  \n",
      " 6   saldomovimentação    1048575 non-null  int64  \n",
      " 7   cbo2002ocupação      1048575 non-null  int64  \n",
      " 8   categoria            1048575 non-null  int64  \n",
      " 9   graudeinstrução      1048575 non-null  int64  \n",
      " 10  idade                1048572 non-null  float64\n",
      " 11  horascontratuais     1048575 non-null  int64  \n",
      " 12  raçacor              1048575 non-null  int64  \n",
      " 13  sexo                 1048575 non-null  int64  \n",
      " 14  tipoempregador       1048575 non-null  int64  \n",
      " 15  tipoestabelecimento  1048575 non-null  int64  \n",
      " 16  tipomovimentação     1048575 non-null  int64  \n",
      " 17  tipodedeficiência    1048575 non-null  int64  \n",
      " 18  indtrabintermitente  1048575 non-null  int64  \n",
      " 19  indtrabparcial       1048575 non-null  int64  \n",
      " 20  salário              1048566 non-null  object \n",
      " 21  tamestabjan          1048575 non-null  int64  \n",
      " 22  indicadoraprendiz    1048575 non-null  int64  \n",
      " 23  fonte                1048575 non-null  int64  \n",
      "dtypes: float64(1), int64(21), object(2)\n",
      "memory usage: 192.0+ MB\n"
     ]
    }
   ],
   "source": [
    "df.info()"
   ]
  },
  {
   "cell_type": "markdown",
   "id": "eb314bcf",
   "metadata": {},
   "source": [
    "### Criar coluna admitidos/desligados apartir dos dados de tipomovimentação"
   ]
  },
  {
   "cell_type": "code",
   "execution_count": 531,
   "id": "11d95dcb",
   "metadata": {},
   "outputs": [],
   "source": [
    "df['admitidos/desligados'] = df['tipomovimentação'].apply(lambda x: \"Admitido\" if x==10 or x==20 or x==25 or x==35 or x==70 else \"Desligado\")"
   ]
  },
  {
   "cell_type": "markdown",
   "id": "612b50f1",
   "metadata": {},
   "source": [
    "### Calcular total admitido e total desligado"
   ]
  },
  {
   "cell_type": "code",
   "execution_count": 532,
   "id": "bff71533",
   "metadata": {},
   "outputs": [],
   "source": [
    "total = df['admitidos/desligados'].count()"
   ]
  },
  {
   "cell_type": "markdown",
   "id": "2c343c82",
   "metadata": {},
   "source": [
    "### Cria o array para ficar mais facil"
   ]
  },
  {
   "cell_type": "code",
   "execution_count": 533,
   "id": "e6c24497",
   "metadata": {},
   "outputs": [],
   "source": [
    "totalAdmitidoArray = df[df['admitidos/desligados'] == \"Admitido\"]"
   ]
  },
  {
   "cell_type": "code",
   "execution_count": 534,
   "id": "92659531",
   "metadata": {},
   "outputs": [],
   "source": [
    "totalAdmitido = totalAdmitidoArray['admitidos/desligados'].count()"
   ]
  },
  {
   "cell_type": "code",
   "execution_count": 535,
   "id": "f86c6202",
   "metadata": {},
   "outputs": [],
   "source": [
    "totalDesligadoArray = df[df['admitidos/desligados'] == \"Desligado\"]"
   ]
  },
  {
   "cell_type": "code",
   "execution_count": 536,
   "id": "236af3ca",
   "metadata": {},
   "outputs": [],
   "source": [
    "totalDesligado = total - totalAdmitido"
   ]
  },
  {
   "cell_type": "markdown",
   "id": "b14d1983",
   "metadata": {},
   "source": [
    "# Começa a calcular os items pedidos"
   ]
  },
  {
   "cell_type": "markdown",
   "id": "438beb58",
   "metadata": {},
   "source": [
    "### Total porcentagem dos sexos Admitidos"
   ]
  },
  {
   "cell_type": "code",
   "execution_count": 537,
   "id": "008be5f4",
   "metadata": {},
   "outputs": [],
   "source": [
    "TotalAdmitidoFem = (totalAdmitidoArray[totalAdmitidoArray['sexo']==1])['admitidos/desligados'].count()"
   ]
  },
  {
   "cell_type": "code",
   "execution_count": 538,
   "id": "010a2eed",
   "metadata": {},
   "outputs": [],
   "source": [
    "TotalAdmitidoMasc = totalAdmitido - TotalAdmitidoFem"
   ]
  },
  {
   "cell_type": "code",
   "execution_count": 539,
   "id": "5921ecba",
   "metadata": {},
   "outputs": [],
   "source": [
    "porcentagemAdmitidoFem = ((TotalAdmitidoFem/totalAdmitido)*100).astype(int)"
   ]
  },
  {
   "cell_type": "code",
   "execution_count": 540,
   "id": "dbd8fa25",
   "metadata": {},
   "outputs": [],
   "source": [
    "porcentagemAdmitidoMasc = 100-porcentagemAdmitidoFem"
   ]
  },
  {
   "cell_type": "code",
   "execution_count": 541,
   "id": "c67f20dd",
   "metadata": {},
   "outputs": [
    {
     "data": {
      "text/plain": [
       "'Porcentagem Admitido feminino: 65% Porcentagem Admitido Masculino 35%'"
      ]
     },
     "execution_count": 541,
     "metadata": {},
     "output_type": "execute_result"
    }
   ],
   "source": [
    "f'Porcentagem Admitido feminino: {porcentagemAdmitidoFem}% Porcentagem Admitido Masculino {porcentagemAdmitidoMasc}%'"
   ]
  },
  {
   "cell_type": "markdown",
   "id": "09ef4d52",
   "metadata": {},
   "source": [
    "### Total porcentagem dos sexos Desligados"
   ]
  },
  {
   "cell_type": "code",
   "execution_count": 542,
   "id": "a1b0a34a",
   "metadata": {},
   "outputs": [],
   "source": [
    "TotalDesligadoFem = (totalDesligadoArray[totalDesligadoArray['sexo']==1])['admitidos/desligados'].count()"
   ]
  },
  {
   "cell_type": "code",
   "execution_count": 543,
   "id": "bc320411",
   "metadata": {},
   "outputs": [],
   "source": [
    "TotalDesligadoMasc = totalDesligado - TotalDesligadoFem"
   ]
  },
  {
   "cell_type": "code",
   "execution_count": 544,
   "id": "0cc32aaf",
   "metadata": {},
   "outputs": [],
   "source": [
    "porcentagemDesligadoFem = ((TotalDesligadoFem/totalDesligado)*100).astype(int)"
   ]
  },
  {
   "cell_type": "code",
   "execution_count": 545,
   "id": "cecef197",
   "metadata": {},
   "outputs": [],
   "source": [
    "porcentagemDesligadoMasc = 100-porcentagemDesligadoFem"
   ]
  },
  {
   "cell_type": "code",
   "execution_count": 546,
   "id": "b329b114",
   "metadata": {
    "scrolled": true
   },
   "outputs": [
    {
     "data": {
      "text/plain": [
       "'Porcentagem Desligado feminino: 62% Porcentagem Desligado Masculino 38%'"
      ]
     },
     "execution_count": 546,
     "metadata": {},
     "output_type": "execute_result"
    }
   ],
   "source": [
    "f'Porcentagem Desligado feminino: {porcentagemDesligadoFem}% Porcentagem Desligado Masculino {porcentagemDesligadoMasc}%'"
   ]
  },
  {
   "cell_type": "markdown",
   "id": "194a3439",
   "metadata": {},
   "source": [
    "# Classe social"
   ]
  },
  {
   "cell_type": "code",
   "execution_count": 547,
   "id": "bb4f63c4",
   "metadata": {},
   "outputs": [
    {
     "ename": "SyntaxError",
     "evalue": "invalid syntax (<ipython-input-547-75545955b073>, line 1)",
     "output_type": "error",
     "traceback": [
      "\u001b[1;36m  File \u001b[1;32m\"<ipython-input-547-75545955b073>\"\u001b[1;36m, line \u001b[1;32m1\u001b[0m\n\u001b[1;33m    df['classe social'] = df['salário'].apply(lambda x: if(x<2200) return 'E' elif(x<4400) return'D' elif(x<1100) return 'C' elif(x<11000) return 'B' else return 'A')\u001b[0m\n\u001b[1;37m                                                        ^\u001b[0m\n\u001b[1;31mSyntaxError\u001b[0m\u001b[1;31m:\u001b[0m invalid syntax\n"
     ]
    }
   ],
   "source": [
    "df['classe social'] = df['salário'].apply(lambda x: if(x<2200) return 'E' elif(x<4400) return'D' elif(x<1100) return 'C' elif(x<11000) return 'B' else return 'A')"
   ]
  },
  {
   "cell_type": "code",
   "execution_count": null,
   "id": "2c80b0a1",
   "metadata": {},
   "outputs": [],
   "source": [
    "df['classe social']"
   ]
  }
 ],
 "metadata": {
  "kernelspec": {
   "display_name": "Python 3",
   "language": "python",
   "name": "python3"
  },
  "language_info": {
   "codemirror_mode": {
    "name": "ipython",
    "version": 3
   },
   "file_extension": ".py",
   "mimetype": "text/x-python",
   "name": "python",
   "nbconvert_exporter": "python",
   "pygments_lexer": "ipython3",
   "version": "3.9.2"
  }
 },
 "nbformat": 4,
 "nbformat_minor": 5
}
