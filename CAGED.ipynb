{
 "metadata": {
  "language_info": {
   "codemirror_mode": {
    "name": "ipython",
    "version": 3
   },
   "file_extension": ".py",
   "mimetype": "text/x-python",
   "name": "python",
   "nbconvert_exporter": "python",
   "pygments_lexer": "ipython3",
   "version": "3.9.2"
  },
  "orig_nbformat": 2,
  "kernelspec": {
   "name": "python392jvsc74a57bd062026d6115dea9c7533ba2d3966bb08acda9af192e1196f8f3ea7b4d1bcb3324",
   "display_name": "Python 3.9.2 64-bit"
  }
 },
 "nbformat": 4,
 "nbformat_minor": 2,
 "cells": [
  {
   "cell_type": "code",
   "execution_count": 1,
   "metadata": {},
   "outputs": [],
   "source": [
    "import pandas as pd\n",
    "import matplotlib\n"
   ]
  },
  {
   "cell_type": "code",
   "execution_count": 17,
   "metadata": {},
   "outputs": [],
   "source": [
    "colunas = ['Admitidos/Desligados','Municipio', 'CBO 2002 Ocupacao', 'CNAE 1.0 Classe', 'CNAE 2.0 Classe', 'CNAE 2.0 Subclas', 'Grau Instrucao', 'IBGE Subsetor', 'Ind Aprendiz', 'Ind Portador Defic', 'Competencia Declarada', 'Idade', 'Raca Cor', 'Salario Mensal','Saldo Mov','Sexo','Tipo Estab','Tipo Defic','Tipo Mov Desagregado','UF']\r\n",
    "df = pd.read_csv(r'C:\\Users\\Pichau\\Documents\\GitHub\\AnaliseCAGED/CAGEDEST.csv', delimiter=\";\", low_memory=False, usecols= colunas)"
   ]
  },
  {
   "cell_type": "code",
   "execution_count": 9,
   "metadata": {},
   "outputs": [
    {
     "output_type": "stream",
     "name": "stdout",
     "text": [
      "<class 'pandas.core.frame.DataFrame'>\nRangeIndex: 2616053 entries, 0 to 2616052\nData columns (total 42 columns):\n #   Column                 Dtype \n---  ------                 ----- \n 0   Admitidos/Desligados   int64 \n 1   Competencia Declarada  int64 \n 2   Municipio              int64 \n 3   Ano Declarado          int64 \n 4   CBO 2002 Ocupacao      int64 \n 5   CNAE 1.0 Classe        int64 \n 6   CNAE 2.0 Classe        int64 \n 7   CNAE 2.0 Subclas       int64 \n 8   Faixa Empr Inicio Jan  int64 \n 9   Grau Instrucao         int64 \n 10  Qtd Hora Contrat       int64 \n 11  IBGE Subsetor          int64 \n 12  Idade                  int64 \n 13  Ind Aprendiz           int64 \n 14  Ind Portador Defic     int64 \n 15  Raca Cor               int64 \n 16  Salario Mensal         object\n 17  Saldo Mov              int64 \n 18  Sexo                   int64 \n 19  Tempo Emprego          object\n 20  Tipo Estab             int64 \n 21  Tipo Defic             int64 \n 22  Tipo Mov Desagregado   int64 \n 23  UF                     int64 \n 24  Bairros SP             object\n 25  Bairros Fortaleza      object\n 26  Bairros RJ             object\n 27  Distritos SP           object\n 28  Regioes Adm DF         int64 \n 29  Mesorregiao            int64 \n 30  Microrregiao           int64 \n 31  Regiao Adm RJ          object\n 32  Regiao Adm SP          object\n 33  Regiao Corede          object\n 34  Regiao Corede 04       object\n 35  Regiao Gov SP          object\n 36  Regiao Senac PR        object\n 37  Regiao Senai PR        object\n 38  Regiao Senai SP        object\n 39  Sub-Regiao Senai PR    object\n 40  Ind Trab Parcial       int64 \n 41  Ind Trab Intermitente  int64 \ndtypes: int64(27), object(15)\nmemory usage: 838.3+ MB\n"
     ]
    }
   ],
   "source": [
    "df.info()"
   ]
  },
  {
   "cell_type": "code",
   "execution_count": 18,
   "metadata": {},
   "outputs": [
    {
     "output_type": "execute_result",
     "data": {
      "text/plain": [
       "0          510267\n",
       "1          510805\n",
       "2          510263\n",
       "3          510267\n",
       "4          510525\n",
       "            ...  \n",
       "2616048    211130\n",
       "2616049    211130\n",
       "2616050    210530\n",
       "2616051    210270\n",
       "2616052    210270\n",
       "Name: Municipio, Length: 2616053, dtype: int64"
      ]
     },
     "metadata": {},
     "execution_count": 18
    }
   ],
   "source": [
    "df['Municipio']"
   ]
  },
  {
   "cell_type": "code",
   "execution_count": null,
   "metadata": {},
   "outputs": [],
   "source": []
  }
 ]
}